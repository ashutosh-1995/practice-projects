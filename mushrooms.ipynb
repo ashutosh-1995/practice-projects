{
 "cells": [
  {
   "cell_type": "markdown",
   "id": "59c0c4b3",
   "metadata": {},
   "source": [
    "# Objective : We have to predict that whether a mushroom species is edible or poisnous.\n",
    "\n",
    "In this task we have to predict that whether a mushroom species is edible or poisnous on the basis of analysing the various columns given in the datasets like cap-shape, cap-surface, etc.\n",
    "\n",
    "* The target column is the class."
   ]
  },
  {
   "cell_type": "markdown",
   "id": "651b9459",
   "metadata": {},
   "source": [
    "#### Importing various important libraries required for analysis."
   ]
  },
  {
   "cell_type": "code",
   "execution_count": 1,
   "id": "cf0dda7b",
   "metadata": {},
   "outputs": [],
   "source": [
    "import numpy as np\n",
    "import pandas as pd\n",
    "import matplotlib.pyplot as plt\n",
    "import seaborn as sns\n",
    "from sklearn.model_selection import train_test_split, cross_val_score\n",
    "from sklearn.linear_model import LogisticRegression\n",
    "from sklearn.tree import DecisionTreeClassifier\n",
    "from sklearn import metrics"
   ]
  },
  {
   "cell_type": "code",
   "execution_count": 2,
   "id": "f274a607",
   "metadata": {},
   "outputs": [
    {
     "data": {
      "text/html": [
       "<div>\n",
       "<style scoped>\n",
       "    .dataframe tbody tr th:only-of-type {\n",
       "        vertical-align: middle;\n",
       "    }\n",
       "\n",
       "    .dataframe tbody tr th {\n",
       "        vertical-align: top;\n",
       "    }\n",
       "\n",
       "    .dataframe thead th {\n",
       "        text-align: right;\n",
       "    }\n",
       "</style>\n",
       "<table border=\"1\" class=\"dataframe\">\n",
       "  <thead>\n",
       "    <tr style=\"text-align: right;\">\n",
       "      <th></th>\n",
       "      <th>class</th>\n",
       "      <th>cap-shape</th>\n",
       "      <th>cap-surface</th>\n",
       "      <th>cap-color</th>\n",
       "      <th>bruises</th>\n",
       "      <th>odor</th>\n",
       "      <th>gill-attachment</th>\n",
       "      <th>gill-spacing</th>\n",
       "      <th>gill-size</th>\n",
       "      <th>gill-color</th>\n",
       "      <th>...</th>\n",
       "      <th>stalk-surface-below-ring</th>\n",
       "      <th>stalk-color-above-ring</th>\n",
       "      <th>stalk-color-below-ring</th>\n",
       "      <th>veil-type</th>\n",
       "      <th>veil-color</th>\n",
       "      <th>ring-number</th>\n",
       "      <th>ring-type</th>\n",
       "      <th>spore-print-color</th>\n",
       "      <th>population</th>\n",
       "      <th>habitat</th>\n",
       "    </tr>\n",
       "  </thead>\n",
       "  <tbody>\n",
       "    <tr>\n",
       "      <th>0</th>\n",
       "      <td>p</td>\n",
       "      <td>x</td>\n",
       "      <td>s</td>\n",
       "      <td>n</td>\n",
       "      <td>t</td>\n",
       "      <td>p</td>\n",
       "      <td>f</td>\n",
       "      <td>c</td>\n",
       "      <td>n</td>\n",
       "      <td>k</td>\n",
       "      <td>...</td>\n",
       "      <td>s</td>\n",
       "      <td>w</td>\n",
       "      <td>w</td>\n",
       "      <td>p</td>\n",
       "      <td>w</td>\n",
       "      <td>o</td>\n",
       "      <td>p</td>\n",
       "      <td>k</td>\n",
       "      <td>s</td>\n",
       "      <td>u</td>\n",
       "    </tr>\n",
       "    <tr>\n",
       "      <th>1</th>\n",
       "      <td>e</td>\n",
       "      <td>x</td>\n",
       "      <td>s</td>\n",
       "      <td>y</td>\n",
       "      <td>t</td>\n",
       "      <td>a</td>\n",
       "      <td>f</td>\n",
       "      <td>c</td>\n",
       "      <td>b</td>\n",
       "      <td>k</td>\n",
       "      <td>...</td>\n",
       "      <td>s</td>\n",
       "      <td>w</td>\n",
       "      <td>w</td>\n",
       "      <td>p</td>\n",
       "      <td>w</td>\n",
       "      <td>o</td>\n",
       "      <td>p</td>\n",
       "      <td>n</td>\n",
       "      <td>n</td>\n",
       "      <td>g</td>\n",
       "    </tr>\n",
       "    <tr>\n",
       "      <th>2</th>\n",
       "      <td>e</td>\n",
       "      <td>b</td>\n",
       "      <td>s</td>\n",
       "      <td>w</td>\n",
       "      <td>t</td>\n",
       "      <td>l</td>\n",
       "      <td>f</td>\n",
       "      <td>c</td>\n",
       "      <td>b</td>\n",
       "      <td>n</td>\n",
       "      <td>...</td>\n",
       "      <td>s</td>\n",
       "      <td>w</td>\n",
       "      <td>w</td>\n",
       "      <td>p</td>\n",
       "      <td>w</td>\n",
       "      <td>o</td>\n",
       "      <td>p</td>\n",
       "      <td>n</td>\n",
       "      <td>n</td>\n",
       "      <td>m</td>\n",
       "    </tr>\n",
       "    <tr>\n",
       "      <th>3</th>\n",
       "      <td>p</td>\n",
       "      <td>x</td>\n",
       "      <td>y</td>\n",
       "      <td>w</td>\n",
       "      <td>t</td>\n",
       "      <td>p</td>\n",
       "      <td>f</td>\n",
       "      <td>c</td>\n",
       "      <td>n</td>\n",
       "      <td>n</td>\n",
       "      <td>...</td>\n",
       "      <td>s</td>\n",
       "      <td>w</td>\n",
       "      <td>w</td>\n",
       "      <td>p</td>\n",
       "      <td>w</td>\n",
       "      <td>o</td>\n",
       "      <td>p</td>\n",
       "      <td>k</td>\n",
       "      <td>s</td>\n",
       "      <td>u</td>\n",
       "    </tr>\n",
       "    <tr>\n",
       "      <th>4</th>\n",
       "      <td>e</td>\n",
       "      <td>x</td>\n",
       "      <td>s</td>\n",
       "      <td>g</td>\n",
       "      <td>f</td>\n",
       "      <td>n</td>\n",
       "      <td>f</td>\n",
       "      <td>w</td>\n",
       "      <td>b</td>\n",
       "      <td>k</td>\n",
       "      <td>...</td>\n",
       "      <td>s</td>\n",
       "      <td>w</td>\n",
       "      <td>w</td>\n",
       "      <td>p</td>\n",
       "      <td>w</td>\n",
       "      <td>o</td>\n",
       "      <td>e</td>\n",
       "      <td>n</td>\n",
       "      <td>a</td>\n",
       "      <td>g</td>\n",
       "    </tr>\n",
       "  </tbody>\n",
       "</table>\n",
       "<p>5 rows × 23 columns</p>\n",
       "</div>"
      ],
      "text/plain": [
       "  class cap-shape cap-surface cap-color bruises odor gill-attachment  \\\n",
       "0     p         x           s         n       t    p               f   \n",
       "1     e         x           s         y       t    a               f   \n",
       "2     e         b           s         w       t    l               f   \n",
       "3     p         x           y         w       t    p               f   \n",
       "4     e         x           s         g       f    n               f   \n",
       "\n",
       "  gill-spacing gill-size gill-color  ... stalk-surface-below-ring  \\\n",
       "0            c         n          k  ...                        s   \n",
       "1            c         b          k  ...                        s   \n",
       "2            c         b          n  ...                        s   \n",
       "3            c         n          n  ...                        s   \n",
       "4            w         b          k  ...                        s   \n",
       "\n",
       "  stalk-color-above-ring stalk-color-below-ring veil-type veil-color  \\\n",
       "0                      w                      w         p          w   \n",
       "1                      w                      w         p          w   \n",
       "2                      w                      w         p          w   \n",
       "3                      w                      w         p          w   \n",
       "4                      w                      w         p          w   \n",
       "\n",
       "  ring-number ring-type spore-print-color population habitat  \n",
       "0           o         p                 k          s       u  \n",
       "1           o         p                 n          n       g  \n",
       "2           o         p                 n          n       m  \n",
       "3           o         p                 k          s       u  \n",
       "4           o         e                 n          a       g  \n",
       "\n",
       "[5 rows x 23 columns]"
      ]
     },
     "execution_count": 2,
     "metadata": {},
     "output_type": "execute_result"
    }
   ],
   "source": [
    "mush = pd.read_csv('./Downloads/mushrooms.csv')\n",
    "mush.head()"
   ]
  },
  {
   "cell_type": "markdown",
   "id": "3bbde8b7",
   "metadata": {},
   "source": [
    "#### Getting to know the dimension, description and pressence of the null values in the dataset."
   ]
  },
  {
   "cell_type": "code",
   "execution_count": 3,
   "id": "a6de8bd4",
   "metadata": {},
   "outputs": [
    {
     "data": {
      "text/plain": [
       "(8124, 23)"
      ]
     },
     "execution_count": 3,
     "metadata": {},
     "output_type": "execute_result"
    }
   ],
   "source": [
    "mush.shape"
   ]
  },
  {
   "cell_type": "code",
   "execution_count": 4,
   "id": "2c8d1fa7",
   "metadata": {},
   "outputs": [
    {
     "data": {
      "text/html": [
       "<div>\n",
       "<style scoped>\n",
       "    .dataframe tbody tr th:only-of-type {\n",
       "        vertical-align: middle;\n",
       "    }\n",
       "\n",
       "    .dataframe tbody tr th {\n",
       "        vertical-align: top;\n",
       "    }\n",
       "\n",
       "    .dataframe thead th {\n",
       "        text-align: right;\n",
       "    }\n",
       "</style>\n",
       "<table border=\"1\" class=\"dataframe\">\n",
       "  <thead>\n",
       "    <tr style=\"text-align: right;\">\n",
       "      <th></th>\n",
       "      <th>class</th>\n",
       "      <th>cap-shape</th>\n",
       "      <th>cap-surface</th>\n",
       "      <th>cap-color</th>\n",
       "      <th>bruises</th>\n",
       "      <th>odor</th>\n",
       "      <th>gill-attachment</th>\n",
       "      <th>gill-spacing</th>\n",
       "      <th>gill-size</th>\n",
       "      <th>gill-color</th>\n",
       "      <th>...</th>\n",
       "      <th>stalk-surface-below-ring</th>\n",
       "      <th>stalk-color-above-ring</th>\n",
       "      <th>stalk-color-below-ring</th>\n",
       "      <th>veil-type</th>\n",
       "      <th>veil-color</th>\n",
       "      <th>ring-number</th>\n",
       "      <th>ring-type</th>\n",
       "      <th>spore-print-color</th>\n",
       "      <th>population</th>\n",
       "      <th>habitat</th>\n",
       "    </tr>\n",
       "  </thead>\n",
       "  <tbody>\n",
       "    <tr>\n",
       "      <th>count</th>\n",
       "      <td>8124</td>\n",
       "      <td>8124</td>\n",
       "      <td>8124</td>\n",
       "      <td>8124</td>\n",
       "      <td>8124</td>\n",
       "      <td>8124</td>\n",
       "      <td>8124</td>\n",
       "      <td>8124</td>\n",
       "      <td>8124</td>\n",
       "      <td>8124</td>\n",
       "      <td>...</td>\n",
       "      <td>8124</td>\n",
       "      <td>8124</td>\n",
       "      <td>8124</td>\n",
       "      <td>8124</td>\n",
       "      <td>8124</td>\n",
       "      <td>8124</td>\n",
       "      <td>8124</td>\n",
       "      <td>8124</td>\n",
       "      <td>8124</td>\n",
       "      <td>8124</td>\n",
       "    </tr>\n",
       "    <tr>\n",
       "      <th>unique</th>\n",
       "      <td>2</td>\n",
       "      <td>6</td>\n",
       "      <td>4</td>\n",
       "      <td>10</td>\n",
       "      <td>2</td>\n",
       "      <td>9</td>\n",
       "      <td>2</td>\n",
       "      <td>2</td>\n",
       "      <td>2</td>\n",
       "      <td>12</td>\n",
       "      <td>...</td>\n",
       "      <td>4</td>\n",
       "      <td>9</td>\n",
       "      <td>9</td>\n",
       "      <td>1</td>\n",
       "      <td>4</td>\n",
       "      <td>3</td>\n",
       "      <td>5</td>\n",
       "      <td>9</td>\n",
       "      <td>6</td>\n",
       "      <td>7</td>\n",
       "    </tr>\n",
       "    <tr>\n",
       "      <th>top</th>\n",
       "      <td>e</td>\n",
       "      <td>x</td>\n",
       "      <td>y</td>\n",
       "      <td>n</td>\n",
       "      <td>f</td>\n",
       "      <td>n</td>\n",
       "      <td>f</td>\n",
       "      <td>c</td>\n",
       "      <td>b</td>\n",
       "      <td>b</td>\n",
       "      <td>...</td>\n",
       "      <td>s</td>\n",
       "      <td>w</td>\n",
       "      <td>w</td>\n",
       "      <td>p</td>\n",
       "      <td>w</td>\n",
       "      <td>o</td>\n",
       "      <td>p</td>\n",
       "      <td>w</td>\n",
       "      <td>v</td>\n",
       "      <td>d</td>\n",
       "    </tr>\n",
       "    <tr>\n",
       "      <th>freq</th>\n",
       "      <td>4208</td>\n",
       "      <td>3656</td>\n",
       "      <td>3244</td>\n",
       "      <td>2284</td>\n",
       "      <td>4748</td>\n",
       "      <td>3528</td>\n",
       "      <td>7914</td>\n",
       "      <td>6812</td>\n",
       "      <td>5612</td>\n",
       "      <td>1728</td>\n",
       "      <td>...</td>\n",
       "      <td>4936</td>\n",
       "      <td>4464</td>\n",
       "      <td>4384</td>\n",
       "      <td>8124</td>\n",
       "      <td>7924</td>\n",
       "      <td>7488</td>\n",
       "      <td>3968</td>\n",
       "      <td>2388</td>\n",
       "      <td>4040</td>\n",
       "      <td>3148</td>\n",
       "    </tr>\n",
       "  </tbody>\n",
       "</table>\n",
       "<p>4 rows × 23 columns</p>\n",
       "</div>"
      ],
      "text/plain": [
       "       class cap-shape cap-surface cap-color bruises  odor gill-attachment  \\\n",
       "count   8124      8124        8124      8124    8124  8124            8124   \n",
       "unique     2         6           4        10       2     9               2   \n",
       "top        e         x           y         n       f     n               f   \n",
       "freq    4208      3656        3244      2284    4748  3528            7914   \n",
       "\n",
       "       gill-spacing gill-size gill-color  ... stalk-surface-below-ring  \\\n",
       "count          8124      8124       8124  ...                     8124   \n",
       "unique            2         2         12  ...                        4   \n",
       "top               c         b          b  ...                        s   \n",
       "freq           6812      5612       1728  ...                     4936   \n",
       "\n",
       "       stalk-color-above-ring stalk-color-below-ring veil-type veil-color  \\\n",
       "count                    8124                   8124      8124       8124   \n",
       "unique                      9                      9         1          4   \n",
       "top                         w                      w         p          w   \n",
       "freq                     4464                   4384      8124       7924   \n",
       "\n",
       "       ring-number ring-type spore-print-color population habitat  \n",
       "count         8124      8124              8124       8124    8124  \n",
       "unique           3         5                 9          6       7  \n",
       "top              o         p                 w          v       d  \n",
       "freq          7488      3968              2388       4040    3148  \n",
       "\n",
       "[4 rows x 23 columns]"
      ]
     },
     "execution_count": 4,
     "metadata": {},
     "output_type": "execute_result"
    }
   ],
   "source": [
    "mush.describe()"
   ]
  },
  {
   "cell_type": "code",
   "execution_count": 5,
   "id": "a7ad842a",
   "metadata": {},
   "outputs": [
    {
     "data": {
      "text/plain": [
       "class                       0\n",
       "cap-shape                   0\n",
       "cap-surface                 0\n",
       "cap-color                   0\n",
       "bruises                     0\n",
       "odor                        0\n",
       "gill-attachment             0\n",
       "gill-spacing                0\n",
       "gill-size                   0\n",
       "gill-color                  0\n",
       "stalk-shape                 0\n",
       "stalk-root                  0\n",
       "stalk-surface-above-ring    0\n",
       "stalk-surface-below-ring    0\n",
       "stalk-color-above-ring      0\n",
       "stalk-color-below-ring      0\n",
       "veil-type                   0\n",
       "veil-color                  0\n",
       "ring-number                 0\n",
       "ring-type                   0\n",
       "spore-print-color           0\n",
       "population                  0\n",
       "habitat                     0\n",
       "dtype: int64"
      ]
     },
     "execution_count": 5,
     "metadata": {},
     "output_type": "execute_result"
    }
   ],
   "source": [
    "mush.isnull().sum()"
   ]
  },
  {
   "cell_type": "markdown",
   "id": "c8781795",
   "metadata": {},
   "source": [
    "* By looking at the description we get to know the  top value, unique value and the  frequency of occurance of the  top value in each column of the given dataset.\n",
    "* By looking at the null values of the dataset we get to that there is none present in it.\n",
    "* By looking at the dimension of the dataset we get to know that it contains 8124 rows and 23 columns."
   ]
  },
  {
   "cell_type": "markdown",
   "id": "0331ea54",
   "metadata": {},
   "source": [
    "#### EDA\n",
    "\n",
    "1. cap-shape."
   ]
  },
  {
   "cell_type": "code",
   "execution_count": 6,
   "id": "1d0be1cc",
   "metadata": {},
   "outputs": [
    {
     "data": {
      "text/plain": [
       "array(['x', 'b', 's', 'f', 'k', 'c'], dtype=object)"
      ]
     },
     "execution_count": 6,
     "metadata": {},
     "output_type": "execute_result"
    }
   ],
   "source": [
    "mush['cap-shape'].unique()"
   ]
  },
  {
   "cell_type": "code",
   "execution_count": 7,
   "id": "c179a206",
   "metadata": {},
   "outputs": [
    {
     "name": "stderr",
     "output_type": "stream",
     "text": [
      "C:\\Users\\vibhu_o95hv7f\\anaconda3\\lib\\site-packages\\seaborn\\_decorators.py:36: FutureWarning: Pass the following variable as a keyword arg: x. From version 0.12, the only valid positional argument will be `data`, and passing other arguments without an explicit keyword will result in an error or misinterpretation.\n",
      "  warnings.warn(\n"
     ]
    },
    {
     "data": {
      "image/png": "[encoded data removed]",
      "text/plain": [
       "<Figure size 1080x1080 with 2 Axes>"
      ]
     },
     "metadata": {
      "needs_background": "light"
     },
     "output_type": "display_data"
    }
   ],
   "source": [
    "plt.figure(figsize= [15,15])\n",
    "plt.subplot(221)\n",
    "sns.countplot(mush['cap-shape'])\n",
    "plt.xlabel('cap-shape')\n",
    "plt.subplot(222)\n",
    "sns.scatterplot(x= 'cap-shape', y= 'class', data= mush, hue= 'population')\n",
    "plt.xlabel('cap-shape')\n",
    "plt.ylabel('class')\n",
    "plt.title('class v/s cap-shape')\n",
    "plt.show()"
   ]
  },
  {
   "cell_type": "markdown",
   "id": "05f6bea8",
   "metadata": {},
   "source": [
    "By observing both the graph of cap-shape we can conclude that most number of the mushrooms have x cap-shape from the countplot and from the scatterplot we can conclude that mushrooms with s cap-shape has only edible mushrooms present in it and mushrooms with c cap-shape has only poisnous mushrooms present in it. The rest of the species of the cap-shape have both edible as well as poisnous mushrooms present in them.\n",
    "\n",
    "2. cap-surface"
   ]
  },
  {
   "cell_type": "code",
   "execution_count": 8,
   "id": "a8f50bda",
   "metadata": {},
   "outputs": [
    {
     "data": {
      "text/plain": [
       "array(['s', 'y', 'f', 'g'], dtype=object)"
      ]
     },
     "execution_count": 8,
     "metadata": {},
     "output_type": "execute_result"
    }
   ],
   "source": [
    "mush['cap-surface'].unique()"
   ]
  },
  {
   "cell_type": "code",
   "execution_count": 9,
   "id": "c05f209c",
   "metadata": {},
   "outputs": [
    {
     "name": "stderr",
     "output_type": "stream",
     "text": [
      "C:\\Users\\vibhu_o95hv7f\\anaconda3\\lib\\site-packages\\seaborn\\_decorators.py:36: FutureWarning: Pass the following variable as a keyword arg: x. From version 0.12, the only valid positional argument will be `data`, and passing other arguments without an explicit keyword will result in an error or misinterpretation.\n",
      "  warnings.warn(\n"
     ]
    },
    {
     "data": {
      "image/png": "[encoded data removed]",
      "text/plain": [
       "<Figure size 1080x1080 with 2 Axes>"
      ]
     },
     "metadata": {
      "needs_background": "light"
     },
     "output_type": "display_data"
    }
   ],
   "source": [
    "plt.figure(figsize= [15,15])\n",
    "plt.subplot(221)\n",
    "sns.countplot(mush['cap-surface'])\n",
    "plt.xlabel('cap-surface')\n",
    "plt.subplot(222)\n",
    "sns.scatterplot(x= 'cap-surface', y= 'class', data= mush, hue= 'population')\n",
    "plt.xlabel('cap-surface')\n",
    "plt.ylabel('class')\n",
    "plt.title('class v/s cap-surface')\n",
    "plt.show()"
   ]
  },
  {
   "cell_type": "markdown",
   "id": "c56b5aa8",
   "metadata": {},
   "source": [
    "By looking at both the graph of cap-surface we can conclude that most number of mushrooms have y cap-surface from the countplot and from the scatterplot we cannot conclude anything of this column.\n",
    "\n",
    "3. cap-color."
   ]
  },
  {
   "cell_type": "code",
   "execution_count": 10,
   "id": "08034c10",
   "metadata": {},
   "outputs": [
    {
     "data": {
      "text/plain": [
       "array(['n', 'y', 'w', 'g', 'e', 'p', 'b', 'u', 'c', 'r'], dtype=object)"
      ]
     },
     "execution_count": 10,
     "metadata": {},
     "output_type": "execute_result"
    }
   ],
   "source": [
    "mush['cap-color'].unique()"
   ]
  },
  {
   "cell_type": "code",
   "execution_count": 11,
   "id": "ba6c651c",
   "metadata": {},
   "outputs": [
    {
     "name": "stderr",
     "output_type": "stream",
     "text": [
      "C:\\Users\\vibhu_o95hv7f\\anaconda3\\lib\\site-packages\\seaborn\\_decorators.py:36: FutureWarning: Pass the following variable as a keyword arg: x. From version 0.12, the only valid positional argument will be `data`, and passing other arguments without an explicit keyword will result in an error or misinterpretation.\n",
      "  warnings.warn(\n"
     ]
    },
    {
     "data": {
      "image/png": "[encoded data removed]",
      "text/plain": [
       "<Figure size 1080x1080 with 2 Axes>"
      ]
     },
     "metadata": {
      "needs_background": "light"
     },
     "output_type": "display_data"
    }
   ],
   "source": [
    "plt.figure(figsize= [15,15])\n",
    "plt.subplot(221)\n",
    "sns.countplot(mush['cap-color'])\n",
    "plt.xlabel('cap-color')\n",
    "plt.subplot(222)\n",
    "sns.scatterplot(x= 'cap-color', y= 'class', data= mush, hue= 'population')\n",
    "plt.xlabel('cap-color')\n",
    "plt.ylabel('class')\n",
    "plt.title('class v/s cap-color')\n",
    "plt.show()"
   ]
  },
  {
   "cell_type": "markdown",
   "id": "94b0c548",
   "metadata": {},
   "source": [
    "By looking at both graphs of cap-color we can conclude that most of the mushrooms are present with the n cap-color from the countplot and from the scatterplot we can conclude that mushrooms with u and r cap-color have only edible mushrooms present in them and rest of the species of cap-color in mushrooms have both edible as well as poisnous mushrooms present in them.\n",
    "\n",
    "4. bruises"
   ]
  },
  {
   "cell_type": "code",
   "execution_count": 12,
   "id": "d786853a",
   "metadata": {},
   "outputs": [
    {
     "data": {
      "text/plain": [
       "array(['t', 'f'], dtype=object)"
      ]
     },
     "execution_count": 12,
     "metadata": {},
     "output_type": "execute_result"
    }
   ],
   "source": [
    "mush['bruises'].unique()"
   ]
  },
  {
   "cell_type": "code",
   "execution_count": 13,
   "id": "60fb05d0",
   "metadata": {},
   "outputs": [
    {
     "name": "stderr",
     "output_type": "stream",
     "text": [
      "C:\\Users\\vibhu_o95hv7f\\anaconda3\\lib\\site-packages\\seaborn\\_decorators.py:36: FutureWarning: Pass the following variable as a keyword arg: x. From version 0.12, the only valid positional argument will be `data`, and passing other arguments without an explicit keyword will result in an error or misinterpretation.\n",
      "  warnings.warn(\n"
     ]
    },
    {
     "data": {
      "image/png": "[encoded data removed]",
      "text/plain": [
       "<Figure size 1080x1080 with 2 Axes>"
      ]
     },
     "metadata": {
      "needs_background": "light"
     },
     "output_type": "display_data"
    }
   ],
   "source": [
    "plt.figure(figsize= [15,15])\n",
    "plt.subplot(221)\n",
    "sns.countplot(mush['bruises'])\n",
    "plt.xlabel('bruises')\n",
    "plt.subplot(222)\n",
    "sns.scatterplot(x= 'bruises', y= 'class', data= mush, hue= 'population')\n",
    "plt.xlabel('bruises')\n",
    "plt.ylabel('class')\n",
    "plt.title('class v/s bruises')\n",
    "plt.show()"
   ]
  },
  {
   "cell_type": "markdown",
   "id": "44df606a",
   "metadata": {},
   "source": [
    "By looking at both the graphs of bruises we can conclude that most of the mushrooms are present with the f bruises on it from the countplot and from the scatterplot we cannot conclude anything.\n",
    "\n",
    "5. odor."
   ]
  },
  {
   "cell_type": "code",
   "execution_count": 14,
   "id": "2c9f55c9",
   "metadata": {},
   "outputs": [
    {
     "data": {
      "text/plain": [
       "array(['p', 'a', 'l', 'n', 'f', 'c', 'y', 's', 'm'], dtype=object)"
      ]
     },
     "execution_count": 14,
     "metadata": {},
     "output_type": "execute_result"
    }
   ],
   "source": [
    "mush['odor'].unique()"
   ]
  },
  {
   "cell_type": "code",
   "execution_count": 15,
   "id": "84bbd143",
   "metadata": {},
   "outputs": [
    {
     "name": "stderr",
     "output_type": "stream",
     "text": [
      "C:\\Users\\vibhu_o95hv7f\\anaconda3\\lib\\site-packages\\seaborn\\_decorators.py:36: FutureWarning: Pass the following variable as a keyword arg: x. From version 0.12, the only valid positional argument will be `data`, and passing other arguments without an explicit keyword will result in an error or misinterpretation.\n",
      "  warnings.warn(\n"
     ]
    },
    {
     "data": {
      "image/png": "[encoded data removed]",
      "text/plain": [
       "<Figure size 1080x1080 with 2 Axes>"
      ]
     },
     "metadata": {
      "needs_background": "light"
     },
     "output_type": "display_data"
    }
   ],
   "source": [
    "plt.figure(figsize= [15,15])\n",
    "plt.subplot(221)\n",
    "sns.countplot(mush['odor'])\n",
    "plt.xlabel('odor')\n",
    "plt.subplot(222)\n",
    "sns.scatterplot(x= 'odor', y= 'class', data= mush, hue= 'population')\n",
    "plt.xlabel('odor')\n",
    "plt.ylabel('class')\n",
    "plt.title('class v/s odor')\n",
    "plt.show()"
   ]
  },
  {
   "cell_type": "markdown",
   "id": "b8c72104",
   "metadata": {},
   "source": [
    "By looking at both the graphs of the odor we can conclude that most of the mushrooms are present with the odor n from the countplot and from the scatterplot we can conclude that mushrooms with a, l, and n odor have only edible mushrooms present in them and rest of the odor species of mushrooms have both edible and poisnous mushrooms resent in them.\n",
    "\n",
    "6. gill-attachment"
   ]
  },
  {
   "cell_type": "code",
   "execution_count": 16,
   "id": "e245d37a",
   "metadata": {},
   "outputs": [
    {
     "data": {
      "text/plain": [
       "array(['f', 'a'], dtype=object)"
      ]
     },
     "execution_count": 16,
     "metadata": {},
     "output_type": "execute_result"
    }
   ],
   "source": [
    "mush['gill-attachment'].unique()"
   ]
  },
  {
   "cell_type": "code",
   "execution_count": 17,
   "id": "70087584",
   "metadata": {},
   "outputs": [
    {
     "name": "stderr",
     "output_type": "stream",
     "text": [
      "C:\\Users\\vibhu_o95hv7f\\anaconda3\\lib\\site-packages\\seaborn\\_decorators.py:36: FutureWarning: Pass the following variable as a keyword arg: x. From version 0.12, the only valid positional argument will be `data`, and passing other arguments without an explicit keyword will result in an error or misinterpretation.\n",
      "  warnings.warn(\n"
     ]
    },
    {
     "data": {
      "image/png": "[encoded data removed]",
      "text/plain": [
       "<Figure size 1080x1080 with 2 Axes>"
      ]
     },
     "metadata": {
      "needs_background": "light"
     },
     "output_type": "display_data"
    }
   ],
   "source": [
    "plt.figure(figsize= [15,15])\n",
    "plt.subplot(221)\n",
    "sns.countplot(mush['gill-attachment'])\n",
    "plt.xlabel('gill-attachment')\n",
    "plt.subplot(222)\n",
    "sns.scatterplot(x= 'gill-attachment', y= 'class', data= mush, hue= 'population')\n",
    "plt.xlabel('gill-attachment')\n",
    "plt.ylabel('class')\n",
    "plt.title('class v/s gill-attachment')\n",
    "plt.show()"
   ]
  },
  {
   "cell_type": "markdown",
   "id": "6454ea29",
   "metadata": {},
   "source": [
    "By looking at both the graphs of gill-attachment we can conclude that most of the mushrooms are present with f gill-attachment from the countplot and from the scatterplot we cannot conclude anything.\n",
    "\n",
    "7. gill-color"
   ]
  },
  {
   "cell_type": "code",
   "execution_count": 18,
   "id": "cb6e5239",
   "metadata": {},
   "outputs": [
    {
     "data": {
      "text/plain": [
       "array(['k', 'n', 'g', 'p', 'w', 'h', 'u', 'e', 'b', 'r', 'y', 'o'],\n",
       "      dtype=object)"
      ]
     },
     "execution_count": 18,
     "metadata": {},
     "output_type": "execute_result"
    }
   ],
   "source": [
    "mush['gill-color'].unique()"
   ]
  },
  {
   "cell_type": "code",
   "execution_count": 19,
   "id": "c3c40cbb",
   "metadata": {},
   "outputs": [
    {
     "name": "stderr",
     "output_type": "stream",
     "text": [
      "C:\\Users\\vibhu_o95hv7f\\anaconda3\\lib\\site-packages\\seaborn\\_decorators.py:36: FutureWarning: Pass the following variable as a keyword arg: x. From version 0.12, the only valid positional argument will be `data`, and passing other arguments without an explicit keyword will result in an error or misinterpretation.\n",
      "  warnings.warn(\n"
     ]
    },
    {
     "data": {
      "image/png": "[encoded data removed]",
      "text/plain": [
       "<Figure size 1080x1080 with 2 Axes>"
      ]
     },
     "metadata": {
      "needs_background": "light"
     },
     "output_type": "display_data"
    }
   ],
   "source": [
    "plt.figure(figsize= [15,15])\n",
    "plt.subplot(221)\n",
    "sns.countplot(mush['gill-color'])\n",
    "plt.xlabel('gill-color')\n",
    "plt.subplot(222)\n",
    "sns.scatterplot(x= 'gill-color', y= 'class', data= mush, hue= 'population')\n",
    "plt.xlabel('gill-color')\n",
    "plt.ylabel('class')\n",
    "plt.title('class v/s gill-color')\n",
    "plt.show()"
   ]
  },
  {
   "cell_type": "markdown",
   "id": "a823c86f",
   "metadata": {},
   "source": [
    "By looking at both the graphs of gill-color we can conclude that most mushrooms are present with b gill-color from the countplot and from the scatterplot we can conclude that mushrooms with b and r gill-color have only poisnous mushrooms present in them and mushrooms with e and o gill-color have only edible mushrooms present in them. The rest of the gill-color species have both edible as well as poisnous mushrooms present in them.\n",
    "\n",
    "8. gill-size"
   ]
  },
  {
   "cell_type": "code",
   "execution_count": 20,
   "id": "342e8247",
   "metadata": {},
   "outputs": [
    {
     "data": {
      "text/plain": [
       "array(['n', 'b'], dtype=object)"
      ]
     },
     "execution_count": 20,
     "metadata": {},
     "output_type": "execute_result"
    }
   ],
   "source": [
    "mush['gill-size'].unique()"
   ]
  },
  {
   "cell_type": "code",
   "execution_count": 21,
   "id": "0b216708",
   "metadata": {},
   "outputs": [
    {
     "name": "stderr",
     "output_type": "stream",
     "text": [
      "C:\\Users\\vibhu_o95hv7f\\anaconda3\\lib\\site-packages\\seaborn\\_decorators.py:36: FutureWarning: Pass the following variable as a keyword arg: x. From version 0.12, the only valid positional argument will be `data`, and passing other arguments without an explicit keyword will result in an error or misinterpretation.\n",
      "  warnings.warn(\n"
     ]
    },
    {
     "data": {
      "image/png": "[encoded data removed]",
      "text/plain": [
       "<Figure size 1080x1080 with 2 Axes>"
      ]
     },
     "metadata": {
      "needs_background": "light"
     },
     "output_type": "display_data"
    }
   ],
   "source": [
    "plt.figure(figsize= [15,15])\n",
    "plt.subplot(221)\n",
    "sns.countplot(mush['gill-size'])\n",
    "plt.xlabel('gill-size')\n",
    "plt.subplot(222)\n",
    "sns.scatterplot(x= 'gill-size', y= 'class', data= mush, hue= 'population')\n",
    "plt.xlabel('gill-size')\n",
    "plt.ylabel('class')\n",
    "plt.title('class v/s gill-size')\n",
    "plt.show()"
   ]
  },
  {
   "cell_type": "markdown",
   "id": "09ac809a",
   "metadata": {},
   "source": [
    "By looking at both the graphs of gill-size we can conclude that most of the mushrooms present with the b gill-size from the countplot and from the scatterplot we cannot conclude anything.\n",
    "\n",
    "9. gill-spacing."
   ]
  },
  {
   "cell_type": "code",
   "execution_count": 22,
   "id": "fe06aaf5",
   "metadata": {},
   "outputs": [
    {
     "data": {
      "text/plain": [
       "array(['c', 'w'], dtype=object)"
      ]
     },
     "execution_count": 22,
     "metadata": {},
     "output_type": "execute_result"
    }
   ],
   "source": [
    "mush['gill-spacing'].unique()"
   ]
  },
  {
   "cell_type": "code",
   "execution_count": 23,
   "id": "a7c23c43",
   "metadata": {},
   "outputs": [
    {
     "name": "stderr",
     "output_type": "stream",
     "text": [
      "C:\\Users\\vibhu_o95hv7f\\anaconda3\\lib\\site-packages\\seaborn\\_decorators.py:36: FutureWarning: Pass the following variable as a keyword arg: x. From version 0.12, the only valid positional argument will be `data`, and passing other arguments without an explicit keyword will result in an error or misinterpretation.\n",
      "  warnings.warn(\n"
     ]
    },
    {
     "data": {
      "image/png": "[encoded data removed]",
      "text/plain": [
       "<Figure size 1080x1080 with 2 Axes>"
      ]
     },
     "metadata": {
      "needs_background": "light"
     },
     "output_type": "display_data"
    }
   ],
   "source": [
    "plt.figure(figsize= [15,15])\n",
    "plt.subplot(221)\n",
    "sns.countplot(mush['gill-spacing'])\n",
    "plt.xlabel('gill-spacing')\n",
    "plt.subplot(222)\n",
    "sns.scatterplot(x= 'gill-spacing', y= 'class', data= mush, hue= 'population')\n",
    "plt.xlabel('gill-spacing')\n",
    "plt.ylabel('class')\n",
    "plt.title('class v/s gill-spacing')\n",
    "plt.show()"
   ]
  },
  {
   "cell_type": "markdown",
   "id": "80d7bc15",
   "metadata": {},
   "source": [
    "By looking at both the graphs of gill-spacing we canconclude that most mushrooms are present with c gill spacing from the countplot and from the scatterplot we cannot conclude anything.\n",
    "\n",
    "10. stalk-root"
   ]
  },
  {
   "cell_type": "code",
   "execution_count": 24,
   "id": "54fdc4f0",
   "metadata": {},
   "outputs": [
    {
     "data": {
      "text/plain": [
       "array(['e', 'c', 'b', 'r', '?'], dtype=object)"
      ]
     },
     "execution_count": 24,
     "metadata": {},
     "output_type": "execute_result"
    }
   ],
   "source": [
    "mush['stalk-root'].unique()"
   ]
  },
  {
   "cell_type": "code",
   "execution_count": 25,
   "id": "5a67b4bf",
   "metadata": {},
   "outputs": [
    {
     "name": "stderr",
     "output_type": "stream",
     "text": [
      "C:\\Users\\vibhu_o95hv7f\\anaconda3\\lib\\site-packages\\seaborn\\_decorators.py:36: FutureWarning: Pass the following variable as a keyword arg: x. From version 0.12, the only valid positional argument will be `data`, and passing other arguments without an explicit keyword will result in an error or misinterpretation.\n",
      "  warnings.warn(\n"
     ]
    },
    {
     "data": {
      "image/png": "[encoded data removed]",
      "text/plain": [
       "<Figure size 1080x1080 with 2 Axes>"
      ]
     },
     "metadata": {
      "needs_background": "light"
     },
     "output_type": "display_data"
    }
   ],
   "source": [
    "plt.figure(figsize= [15,15])\n",
    "plt.subplot(221)\n",
    "sns.countplot(mush['stalk-root'])\n",
    "plt.xlabel('stalk-root')\n",
    "plt.subplot(222)\n",
    "sns.scatterplot(x= 'stalk-root', y= 'class', data= mush, hue= 'population')\n",
    "plt.xlabel('stalk-root')\n",
    "plt.ylabel('class')\n",
    "plt.title('class v/s stalk-root')\n",
    "plt.show()"
   ]
  },
  {
   "cell_type": "markdown",
   "id": "39237071",
   "metadata": {},
   "source": [
    "By looking at both the graphs of stalk-root we can conclude that most mushrooms are present with b stalk-root from the countplot and from the scatterplot we can conclude that mushrooms with r stalk-root has only edible mushrooms present in it and rest of the other stalk-root species have both edible as well as poisnous mushrooms present in them.\n",
    "\n",
    "11. stalk-shape"
   ]
  },
  {
   "cell_type": "code",
   "execution_count": 26,
   "id": "ba5c36c7",
   "metadata": {},
   "outputs": [
    {
     "data": {
      "text/plain": [
       "array(['e', 't'], dtype=object)"
      ]
     },
     "execution_count": 26,
     "metadata": {},
     "output_type": "execute_result"
    }
   ],
   "source": [
    "mush['stalk-shape'].unique()"
   ]
  },
  {
   "cell_type": "code",
   "execution_count": 27,
   "id": "1a11f9c0",
   "metadata": {},
   "outputs": [
    {
     "name": "stderr",
     "output_type": "stream",
     "text": [
      "C:\\Users\\vibhu_o95hv7f\\anaconda3\\lib\\site-packages\\seaborn\\_decorators.py:36: FutureWarning: Pass the following variable as a keyword arg: x. From version 0.12, the only valid positional argument will be `data`, and passing other arguments without an explicit keyword will result in an error or misinterpretation.\n",
      "  warnings.warn(\n"
     ]
    },
    {
     "data": {
      "image/png": "[encoded data removed]",
      "text/plain": [
       "<Figure size 1080x1080 with 2 Axes>"
      ]
     },
     "metadata": {
      "needs_background": "light"
     },
     "output_type": "display_data"
    }
   ],
   "source": [
    "plt.figure(figsize= [15,15])\n",
    "plt.subplot(221)\n",
    "sns.countplot(mush['stalk-shape'])\n",
    "plt.xlabel('stalk-shape')\n",
    "plt.subplot(222)\n",
    "sns.scatterplot(x= 'stalk-shape', y= 'class', data= mush, hue= 'population')\n",
    "plt.xlabel('stalk-shape')\n",
    "plt.ylabel('class')\n",
    "plt.title('class v/s stalk-shape')\n",
    "plt.show()"
   ]
  },
  {
   "cell_type": "markdown",
   "id": "166fc659",
   "metadata": {},
   "source": [
    "By looking at both the graphs of stalk-shape we can conclude that most mushrooms are present with t stalk-shape from the countplot and from the scatterplot we cannot conclude anything.\n",
    "\n",
    "12. stalk-color-above-ring"
   ]
  },
  {
   "cell_type": "code",
   "execution_count": 28,
   "id": "12bef522",
   "metadata": {},
   "outputs": [
    {
     "data": {
      "text/plain": [
       "array(['w', 'g', 'p', 'n', 'b', 'e', 'o', 'c', 'y'], dtype=object)"
      ]
     },
     "execution_count": 28,
     "metadata": {},
     "output_type": "execute_result"
    }
   ],
   "source": [
    "mush['stalk-color-above-ring'].unique()"
   ]
  },
  {
   "cell_type": "code",
   "execution_count": 29,
   "id": "fe4fa2c0",
   "metadata": {},
   "outputs": [
    {
     "name": "stderr",
     "output_type": "stream",
     "text": [
      "C:\\Users\\vibhu_o95hv7f\\anaconda3\\lib\\site-packages\\seaborn\\_decorators.py:36: FutureWarning: Pass the following variable as a keyword arg: x. From version 0.12, the only valid positional argument will be `data`, and passing other arguments without an explicit keyword will result in an error or misinterpretation.\n",
      "  warnings.warn(\n"
     ]
    },
    {
     "data": {
      "image/png": "[encoded data removed]",
      "text/plain": [
       "<Figure size 1080x1080 with 2 Axes>"
      ]
     },
     "metadata": {
      "needs_background": "light"
     },
     "output_type": "display_data"
    }
   ],
   "source": [
    "plt.figure(figsize= [15,15])\n",
    "plt.subplot(221)\n",
    "sns.countplot(mush['stalk-color-above-ring'])\n",
    "plt.xlabel('stalk-color-above-ring')\n",
    "plt.subplot(222)\n",
    "sns.scatterplot(x= 'stalk-color-above-ring', y= 'class', data= mush, hue= 'population')\n",
    "plt.xlabel('stalk-color-above-ring')\n",
    "plt.ylabel('class')\n",
    "plt.title('class v/s stalk-color-above-ring')\n",
    "plt.show()"
   ]
  },
  {
   "cell_type": "markdown",
   "id": "0d5c0e73",
   "metadata": {},
   "source": [
    "By looking at both the graphs of stalk-color-above-ring we can conclude that most mushrooms are present with w stalk-color-above-ring from the countplot and from the scatterplot we can conclude that mushrooms with g, e and o stalk-color-above-ring have only edible mushrooms present in them and mushrooms with b, c and y stalk-color-above-ring have only poisnous mushrooms present in them. The rest of the stalk-color-above-ring species have both edible as well as poisnous mushrooms present in them.\n",
    "\n",
    "13. stalk-color-below-ring"
   ]
  },
  {
   "cell_type": "code",
   "execution_count": 30,
   "id": "be3be45b",
   "metadata": {},
   "outputs": [
    {
     "data": {
      "text/plain": [
       "array(['w', 'p', 'g', 'b', 'n', 'e', 'y', 'o', 'c'], dtype=object)"
      ]
     },
     "execution_count": 30,
     "metadata": {},
     "output_type": "execute_result"
    }
   ],
   "source": [
    "mush['stalk-color-below-ring'].unique()"
   ]
  },
  {
   "cell_type": "code",
   "execution_count": 31,
   "id": "9da5743b",
   "metadata": {},
   "outputs": [
    {
     "name": "stderr",
     "output_type": "stream",
     "text": [
      "C:\\Users\\vibhu_o95hv7f\\anaconda3\\lib\\site-packages\\seaborn\\_decorators.py:36: FutureWarning: Pass the following variable as a keyword arg: x. From version 0.12, the only valid positional argument will be `data`, and passing other arguments without an explicit keyword will result in an error or misinterpretation.\n",
      "  warnings.warn(\n"
     ]
    },
    {
     "data": {
      "image/png": "[encoded data removed]",
      "text/plain": [
       "<Figure size 1080x1080 with 2 Axes>"
      ]
     },
     "metadata": {
      "needs_background": "light"
     },
     "output_type": "display_data"
    }
   ],
   "source": [
    "plt.figure(figsize= [15,15])\n",
    "plt.subplot(221)\n",
    "sns.countplot(mush['stalk-color-below-ring'])\n",
    "plt.xlabel('stalk-color-below-ring')\n",
    "plt.subplot(222)\n",
    "sns.scatterplot(x= 'stalk-color-below-ring', y= 'class', data= mush, hue= 'population')\n",
    "plt.xlabel('stalk-color-below-ring')\n",
    "plt.ylabel('class')\n",
    "plt.title('class v/s stalk-color-below-ring')\n",
    "plt.show()"
   ]
  },
  {
   "cell_type": "markdown",
   "id": "fcc50b41",
   "metadata": {},
   "source": [
    "By looking at both the graphs of stalk-color-below-ring we can conclude that most mushrooms are present with w stalk-color-below-ring from the countplot and from scatterplot we can conclude that mushrooms with g, e and o stalk-color-below-ring have only edible mushrooms present in them and mushrooms with b, y and c stalk-color-below-ring have only poisnous mushrooms present in them. The rest of them with other stalk-color-below-ring species have both edible as well as poisnous mushrooms present in them.\n",
    "\n",
    "14. stalk-surface-above-ring"
   ]
  },
  {
   "cell_type": "code",
   "execution_count": 32,
   "id": "140b57b8",
   "metadata": {},
   "outputs": [
    {
     "data": {
      "text/plain": [
       "array(['s', 'f', 'k', 'y'], dtype=object)"
      ]
     },
     "execution_count": 32,
     "metadata": {},
     "output_type": "execute_result"
    }
   ],
   "source": [
    "mush['stalk-surface-above-ring'].unique()"
   ]
  },
  {
   "cell_type": "code",
   "execution_count": 33,
   "id": "3e3b4253",
   "metadata": {},
   "outputs": [
    {
     "name": "stderr",
     "output_type": "stream",
     "text": [
      "C:\\Users\\vibhu_o95hv7f\\anaconda3\\lib\\site-packages\\seaborn\\_decorators.py:36: FutureWarning: Pass the following variable as a keyword arg: x. From version 0.12, the only valid positional argument will be `data`, and passing other arguments without an explicit keyword will result in an error or misinterpretation.\n",
      "  warnings.warn(\n"
     ]
    },
    {
     "data": {
      "image/png": "[encoded data removed]",
      "text/plain": [
       "<Figure size 1080x1080 with 2 Axes>"
      ]
     },
     "metadata": {
      "needs_background": "light"
     },
     "output_type": "display_data"
    }
   ],
   "source": [
    "plt.figure(figsize= [15,15])\n",
    "plt.subplot(221)\n",
    "sns.countplot(mush['stalk-surface-above-ring'])\n",
    "plt.xlabel('stalk-surface-above-ring')\n",
    "plt.subplot(222)\n",
    "sns.scatterplot(x= 'stalk-surface-above-ring', y= 'class', data= mush, hue= 'population')\n",
    "plt.xlabel('stalk-surface-above-ring')\n",
    "plt.ylabel('class')\n",
    "plt.title('class v/s stalk-surface-above-ring')\n",
    "plt.show()"
   ]
  },
  {
   "cell_type": "markdown",
   "id": "649e1721",
   "metadata": {},
   "source": [
    "By looking at both the graphs of stalk-surface-above-ring we can conclude that most mushrooms are present with the s stalk-surface-above-ring from countplot and from the scatterplot we cannot conclude anything.\n",
    "\n",
    "15. stalk-surface-below-ring"
   ]
  },
  {
   "cell_type": "code",
   "execution_count": 34,
   "id": "47b5b673",
   "metadata": {},
   "outputs": [
    {
     "data": {
      "text/plain": [
       "array(['s', 'f', 'y', 'k'], dtype=object)"
      ]
     },
     "execution_count": 34,
     "metadata": {},
     "output_type": "execute_result"
    }
   ],
   "source": [
    "mush['stalk-surface-below-ring'].unique()"
   ]
  },
  {
   "cell_type": "code",
   "execution_count": 35,
   "id": "e893005d",
   "metadata": {},
   "outputs": [
    {
     "name": "stderr",
     "output_type": "stream",
     "text": [
      "C:\\Users\\vibhu_o95hv7f\\anaconda3\\lib\\site-packages\\seaborn\\_decorators.py:36: FutureWarning: Pass the following variable as a keyword arg: x. From version 0.12, the only valid positional argument will be `data`, and passing other arguments without an explicit keyword will result in an error or misinterpretation.\n",
      "  warnings.warn(\n"
     ]
    },
    {
     "data": {
      "image/png": "[encoded data removed]",
      "text/plain": [
       "<Figure size 1080x1080 with 2 Axes>"
      ]
     },
     "metadata": {
      "needs_background": "light"
     },
     "output_type": "display_data"
    }
   ],
   "source": [
    "plt.figure(figsize= [15,15])\n",
    "plt.subplot(221)\n",
    "sns.countplot(mush['stalk-surface-below-ring'])\n",
    "plt.xlabel('stalk-surface-below-ring')\n",
    "plt.subplot(222)\n",
    "sns.scatterplot(x= 'stalk-surface-below-ring', y= 'class', data= mush, hue= 'population')\n",
    "plt.xlabel('stalk-surface-below-ring')\n",
    "plt.ylabel('class')\n",
    "plt.title('class v/s stalk-surface-below-ring')\n",
    "plt.show()"
   ]
  },
  {
   "cell_type": "markdown",
   "id": "4c315bc7",
   "metadata": {},
   "source": [
    "By looking at both the graphs of stalk-surface-below-ring we can conclude that most mushrooms are present with the s stalk-surface-below-ring from countplot and from the scatterplot we cannot conclude anything.\n",
    "\n",
    "16. veil-color"
   ]
  },
  {
   "cell_type": "code",
   "execution_count": 36,
   "id": "6f68d6e3",
   "metadata": {},
   "outputs": [
    {
     "data": {
      "text/plain": [
       "array(['w', 'n', 'o', 'y'], dtype=object)"
      ]
     },
     "execution_count": 36,
     "metadata": {},
     "output_type": "execute_result"
    }
   ],
   "source": [
    "mush['veil-color'].unique()"
   ]
  },
  {
   "cell_type": "code",
   "execution_count": 37,
   "id": "d45e6d33",
   "metadata": {},
   "outputs": [
    {
     "name": "stderr",
     "output_type": "stream",
     "text": [
      "C:\\Users\\vibhu_o95hv7f\\anaconda3\\lib\\site-packages\\seaborn\\_decorators.py:36: FutureWarning: Pass the following variable as a keyword arg: x. From version 0.12, the only valid positional argument will be `data`, and passing other arguments without an explicit keyword will result in an error or misinterpretation.\n",
      "  warnings.warn(\n"
     ]
    },
    {
     "data": {
      "image/png": "[encoded data removed]",
      "text/plain": [
       "<Figure size 1080x1080 with 2 Axes>"
      ]
     },
     "metadata": {
      "needs_background": "light"
     },
     "output_type": "display_data"
    }
   ],
   "source": [
    "plt.figure(figsize= [15,15])\n",
    "plt.subplot(221)\n",
    "sns.countplot(mush['veil-color'])\n",
    "plt.xlabel('veil-color')\n",
    "plt.subplot(222)\n",
    "sns.scatterplot(x= 'veil-color', y= 'class', data= mush, hue= 'population')\n",
    "plt.xlabel('veil-color')\n",
    "plt.ylabel('class')\n",
    "plt.title('class v/s veil-color')\n",
    "plt.show()"
   ]
  },
  {
   "cell_type": "markdown",
   "id": "aed54c39",
   "metadata": {},
   "source": [
    "By looking at both the graphs of veil-color we can conclude that most of the mushrooms are present with w veil-color from countplot and from the scatterplot we can conclude that mushrooms with n and o veil-color have only edible mushrooms in them and rest of them have both edible as well as poisnous mushrooms present in them.\n",
    "\n",
    "17. veil-type"
   ]
  },
  {
   "cell_type": "code",
   "execution_count": 38,
   "id": "239408a6",
   "metadata": {},
   "outputs": [
    {
     "data": {
      "text/plain": [
       "array(['p'], dtype=object)"
      ]
     },
     "execution_count": 38,
     "metadata": {},
     "output_type": "execute_result"
    }
   ],
   "source": [
    "mush['veil-type'].unique()"
   ]
  },
  {
   "cell_type": "markdown",
   "id": "6f3e8493",
   "metadata": {},
   "source": [
    "As there is only one value present in the whole column of veil-type, so, we don't have to plot the graph for this column.\n",
    "\n",
    "18. ring-number"
   ]
  },
  {
   "cell_type": "code",
   "execution_count": 39,
   "id": "2914a440",
   "metadata": {},
   "outputs": [
    {
     "data": {
      "text/plain": [
       "array(['o', 't', 'n'], dtype=object)"
      ]
     },
     "execution_count": 39,
     "metadata": {},
     "output_type": "execute_result"
    }
   ],
   "source": [
    "mush['ring-number'].unique()"
   ]
  },
  {
   "cell_type": "code",
   "execution_count": 40,
   "id": "31b16f14",
   "metadata": {},
   "outputs": [
    {
     "name": "stderr",
     "output_type": "stream",
     "text": [
      "C:\\Users\\vibhu_o95hv7f\\anaconda3\\lib\\site-packages\\seaborn\\_decorators.py:36: FutureWarning: Pass the following variable as a keyword arg: x. From version 0.12, the only valid positional argument will be `data`, and passing other arguments without an explicit keyword will result in an error or misinterpretation.\n",
      "  warnings.warn(\n"
     ]
    },
    {
     "data": {
      "image/png": "[encoded data removed]",
      "text/plain": [
       "<Figure size 1080x1080 with 2 Axes>"
      ]
     },
     "metadata": {
      "needs_background": "light"
     },
     "output_type": "display_data"
    }
   ],
   "source": [
    "plt.figure(figsize= [15,15])\n",
    "plt.subplot(221)\n",
    "sns.countplot(mush['ring-number'])\n",
    "plt.xlabel('ring-number')\n",
    "plt.subplot(222)\n",
    "sns.scatterplot(x= 'ring-number', y= 'class', data= mush, hue= 'population')\n",
    "plt.xlabel('ring-number')\n",
    "plt.ylabel('class')\n",
    "plt.title('class v/s ring-number')\n",
    "plt.show()"
   ]
  },
  {
   "cell_type": "markdown",
   "id": "05b565c6",
   "metadata": {},
   "source": [
    "By looking at both the graphs of ring-number we can conclude that most mushrooms are present with o ring-number from the countplot and from the scatterplot we can conclude mushrooms with n ring-number has only poisnous mushrooms present in it and rest of them have both edible as well as poisnous mushrooms present in them.\n",
    "\n",
    "19. ring-type"
   ]
  },
  {
   "cell_type": "code",
   "execution_count": 41,
   "id": "bdfc8c6e",
   "metadata": {},
   "outputs": [
    {
     "data": {
      "text/plain": [
       "array(['p', 'e', 'l', 'f', 'n'], dtype=object)"
      ]
     },
     "execution_count": 41,
     "metadata": {},
     "output_type": "execute_result"
    }
   ],
   "source": [
    "mush['ring-type'].unique()"
   ]
  },
  {
   "cell_type": "code",
   "execution_count": 42,
   "id": "1ff4e762",
   "metadata": {},
   "outputs": [
    {
     "name": "stderr",
     "output_type": "stream",
     "text": [
      "C:\\Users\\vibhu_o95hv7f\\anaconda3\\lib\\site-packages\\seaborn\\_decorators.py:36: FutureWarning: Pass the following variable as a keyword arg: x. From version 0.12, the only valid positional argument will be `data`, and passing other arguments without an explicit keyword will result in an error or misinterpretation.\n",
      "  warnings.warn(\n"
     ]
    },
    {
     "data": {
      "image/png": "[encoded data removed]",
      "text/plain": [
       "<Figure size 1080x1080 with 2 Axes>"
      ]
     },
     "metadata": {
      "needs_background": "light"
     },
     "output_type": "display_data"
    }
   ],
   "source": [
    "plt.figure(figsize= [15,15])\n",
    "plt.subplot(221)\n",
    "sns.countplot(mush['ring-type'])\n",
    "plt.xlabel('ring-type')\n",
    "plt.subplot(222)\n",
    "sns.scatterplot(x= 'ring-type', y= 'class', data= mush, hue= 'population')\n",
    "plt.xlabel('ring-type')\n",
    "plt.ylabel('class')\n",
    "plt.title('class v/s ring-type')\n",
    "plt.show()"
   ]
  },
  {
   "cell_type": "markdown",
   "id": "ef9c0e7a",
   "metadata": {},
   "source": [
    "By looking at both the graphs of ring-type we can conclude that most mushrooms are present with p ring-type from the countplot and from the scatterplot we can conclude that mushrooms with l ring-type has only poisnous mushrooms and mushrooms with f ring-type has only edible mushrooms in it. The rest of mushrooms with other ring-type have both edible as well as poisnous mushrooms present in them.\n",
    "\n",
    "20. spore-print-color"
   ]
  },
  {
   "cell_type": "code",
   "execution_count": 43,
   "id": "b9d958b1",
   "metadata": {},
   "outputs": [
    {
     "data": {
      "text/plain": [
       "array(['k', 'n', 'u', 'h', 'w', 'r', 'o', 'y', 'b'], dtype=object)"
      ]
     },
     "execution_count": 43,
     "metadata": {},
     "output_type": "execute_result"
    }
   ],
   "source": [
    "mush['spore-print-color'].unique()"
   ]
  },
  {
   "cell_type": "code",
   "execution_count": 44,
   "id": "c9b08558",
   "metadata": {},
   "outputs": [
    {
     "name": "stderr",
     "output_type": "stream",
     "text": [
      "C:\\Users\\vibhu_o95hv7f\\anaconda3\\lib\\site-packages\\seaborn\\_decorators.py:36: FutureWarning: Pass the following variable as a keyword arg: x. From version 0.12, the only valid positional argument will be `data`, and passing other arguments without an explicit keyword will result in an error or misinterpretation.\n",
      "  warnings.warn(\n"
     ]
    },
    {
     "data": {
      "image/png": "[encoded data removed]",
      "text/plain": [
       "<Figure size 1080x1080 with 2 Axes>"
      ]
     },
     "metadata": {
      "needs_background": "light"
     },
     "output_type": "display_data"
    }
   ],
   "source": [
    "plt.figure(figsize= [15,15])\n",
    "plt.subplot(221)\n",
    "sns.countplot(mush['spore-print-color'])\n",
    "plt.xlabel('spore-print-color')\n",
    "plt.subplot(222)\n",
    "sns.scatterplot(x= 'spore-print-color', y= 'class', data= mush, hue= 'population')\n",
    "plt.xlabel('spore-print-color')\n",
    "plt.ylabel('class')\n",
    "plt.title('class v/s spore-print-color')\n",
    "plt.show()"
   ]
  },
  {
   "cell_type": "markdown",
   "id": "a195b2a3",
   "metadata": {},
   "source": [
    "By looking at both the graphs of spore-print-color we can conclude that most mushrooms are present with the w spore-print-color from the countplot and from the scatterplot we can conclude that mushrooms with r spore-print-color has only poisnous mushrooms in them and mushrooms with u,o,y,b spore-print-color have only edible mushrooms in them. The rest of mushrooms with other spore-print-color have both edible as well as poisnous mushrooms present in them.\n",
    "\n",
    "21. population."
   ]
  },
  {
   "cell_type": "code",
   "execution_count": 45,
   "id": "9e145653",
   "metadata": {},
   "outputs": [
    {
     "data": {
      "text/plain": [
       "array(['s', 'n', 'a', 'v', 'y', 'c'], dtype=object)"
      ]
     },
     "execution_count": 45,
     "metadata": {},
     "output_type": "execute_result"
    }
   ],
   "source": [
    "mush['population'].unique()"
   ]
  },
  {
   "cell_type": "code",
   "execution_count": 46,
   "id": "db799a05",
   "metadata": {},
   "outputs": [
    {
     "name": "stderr",
     "output_type": "stream",
     "text": [
      "C:\\Users\\vibhu_o95hv7f\\anaconda3\\lib\\site-packages\\seaborn\\_decorators.py:36: FutureWarning: Pass the following variable as a keyword arg: x. From version 0.12, the only valid positional argument will be `data`, and passing other arguments without an explicit keyword will result in an error or misinterpretation.\n",
      "  warnings.warn(\n"
     ]
    },
    {
     "data": {
      "image/png": "[encoded data removed]",
      "text/plain": [
       "<Figure size 1080x1080 with 2 Axes>"
      ]
     },
     "metadata": {
      "needs_background": "light"
     },
     "output_type": "display_data"
    }
   ],
   "source": [
    "plt.figure(figsize= [15,15])\n",
    "plt.subplot(221)\n",
    "sns.countplot(mush['population'])\n",
    "plt.xlabel('population')\n",
    "plt.subplot(222)\n",
    "sns.scatterplot(x= 'population', y= 'class', data= mush, hue= 'population')\n",
    "plt.xlabel('population')\n",
    "plt.ylabel('class')\n",
    "plt.title('class v/s population')\n",
    "plt.show()"
   ]
  },
  {
   "cell_type": "markdown",
   "id": "93699fa9",
   "metadata": {},
   "source": [
    "By looking at both the graphs of population we can conclude that most mushrooms are present with the v population from the countplot and from the scatterplot we can conclude that mushrooms with population n and a has only edible class except other who has both edible and poisnous in them.\n",
    "\n",
    "22. habitat."
   ]
  },
  {
   "cell_type": "code",
   "execution_count": 47,
   "id": "3fc97347",
   "metadata": {},
   "outputs": [
    {
     "data": {
      "text/plain": [
       "array(['u', 'g', 'm', 'd', 'p', 'w', 'l'], dtype=object)"
      ]
     },
     "execution_count": 47,
     "metadata": {},
     "output_type": "execute_result"
    }
   ],
   "source": [
    "mush['habitat'].unique()"
   ]
  },
  {
   "cell_type": "code",
   "execution_count": 48,
   "id": "b657a3ea",
   "metadata": {},
   "outputs": [
    {
     "name": "stderr",
     "output_type": "stream",
     "text": [
      "C:\\Users\\vibhu_o95hv7f\\anaconda3\\lib\\site-packages\\seaborn\\_decorators.py:36: FutureWarning: Pass the following variable as a keyword arg: x. From version 0.12, the only valid positional argument will be `data`, and passing other arguments without an explicit keyword will result in an error or misinterpretation.\n",
      "  warnings.warn(\n"
     ]
    },
    {
     "data": {
      "image/png": "[encoded data removed]",
      "text/plain": [
       "<Figure size 1080x1080 with 2 Axes>"
      ]
     },
     "metadata": {
      "needs_background": "light"
     },
     "output_type": "display_data"
    }
   ],
   "source": [
    "plt.figure(figsize= [15,15])\n",
    "plt.subplot(221)\n",
    "sns.countplot(mush['habitat'])\n",
    "plt.xlabel('habitat')\n",
    "plt.subplot(222)\n",
    "sns.scatterplot(x= 'habitat', y= 'class', data= mush, hue= 'population')\n",
    "plt.xlabel('habitat')\n",
    "plt.ylabel('class')\n",
    "plt.title('class v/s habitat')\n",
    "plt.show()"
   ]
  },
  {
   "cell_type": "markdown",
   "id": "acde242a",
   "metadata": {},
   "source": [
    "By looking at both the graphs of habitat we can conclude that most mushrooms are present with the d habitat from the countplot and from the scatterplot we can conclude that mushrooms with w habitat are the only ones who has only edible class except other who have both edible as well as poisnous mushrroms present in them.\n",
    "\n",
    "#### Converting the catagorical data to continuous data."
   ]
  },
  {
   "cell_type": "code",
   "execution_count": 49,
   "id": "42efda6e",
   "metadata": {},
   "outputs": [
    {
     "name": "stdout",
     "output_type": "stream",
     "text": [
      "['n' 'y' 'w' 'g' 'e' 'p' 'b' 'u' 'c' 'r']\n",
      "['x' 'b' 's' 'f' 'k' 'c']\n",
      "['s' 'y' 'f' 'g']\n"
     ]
    }
   ],
   "source": [
    "print(mush['cap-color'].unique())\n",
    "print(mush['cap-shape'].unique())\n",
    "print(mush['cap-surface'].unique())"
   ]
  },
  {
   "cell_type": "code",
   "execution_count": 50,
   "id": "6c61cc98",
   "metadata": {},
   "outputs": [],
   "source": [
    "mush['cap-color'] = mush['cap-color'].replace(['n','y','w','g','e','p','b','u','c','r'],[0,1,2,3,4,5,6,7,8,9])\n",
    "mush['cap-shape'] = mush['cap-shape'].replace(['x','b','s','f','k','c'],[0,1,2,3,4,5])\n",
    "mush['cap-surface'] = mush['cap-surface'].replace(['s','y','f','g'],[0,1,2,3])"
   ]
  },
  {
   "cell_type": "code",
   "execution_count": 51,
   "id": "5ade56ac",
   "metadata": {},
   "outputs": [
    {
     "name": "stdout",
     "output_type": "stream",
     "text": [
      "['p' 'a' 'l' 'n' 'f' 'c' 'y' 's' 'm']\n",
      "['t' 'f']\n"
     ]
    }
   ],
   "source": [
    "print(mush['odor'].unique())\n",
    "print(mush['bruises'].unique())"
   ]
  },
  {
   "cell_type": "code",
   "execution_count": 52,
   "id": "2e9c88a3",
   "metadata": {},
   "outputs": [],
   "source": [
    "mush['odor'] = mush['odor'].replace(['p','a','l','n','f','c','y','s','m'],[0,1,2,3,4,5,6,7,8])\n",
    "mush['bruises'] = mush['bruises'].replace(['t','f'],[0,1])"
   ]
  },
  {
   "cell_type": "code",
   "execution_count": 53,
   "id": "4115afed",
   "metadata": {},
   "outputs": [
    {
     "name": "stdout",
     "output_type": "stream",
     "text": [
      "['f' 'a']\n",
      "['k' 'n' 'g' 'p' 'w' 'h' 'u' 'e' 'b' 'r' 'y' 'o']\n",
      "['n' 'b']\n",
      "['c' 'w']\n"
     ]
    }
   ],
   "source": [
    "print(mush['gill-attachment'].unique())\n",
    "print(mush['gill-color'].unique())\n",
    "print(mush['gill-size'].unique())\n",
    "print(mush['gill-spacing'].unique())"
   ]
  },
  {
   "cell_type": "code",
   "execution_count": 54,
   "id": "efa2cf9d",
   "metadata": {},
   "outputs": [],
   "source": [
    "mush['gill-attachment'] = mush['gill-attachment'].replace(['f','a'],[0,1])\n",
    "mush['gill-color'] = mush['gill-color'].replace(['k','n','g','p','w','h','u','e','b','r','y','o'],[0,1,2,3,4,5,6,7,8,9,10,11])\n",
    "mush['gill-size'] = mush['gill-size'].replace(['n','b'],[0,1])\n",
    "mush['gill-spacing'] = mush['gill-spacing'].replace(['c','w'],[0,1])"
   ]
  },
  {
   "cell_type": "code",
   "execution_count": 55,
   "id": "2a47ef5b",
   "metadata": {},
   "outputs": [
    {
     "name": "stdout",
     "output_type": "stream",
     "text": [
      "['w' 'g' 'p' 'n' 'b' 'e' 'o' 'c' 'y']\n",
      "['w' 'p' 'g' 'b' 'n' 'e' 'y' 'o' 'c']\n",
      "['e' 'c' 'b' 'r' '?']\n",
      "['e' 't']\n",
      "['s' 'f' 'k' 'y']\n",
      "['s' 'f' 'y' 'k']\n"
     ]
    }
   ],
   "source": [
    "print(mush['stalk-color-above-ring'].unique())\n",
    "print(mush['stalk-color-below-ring'].unique())\n",
    "print(mush['stalk-root'].unique())\n",
    "print(mush['stalk-shape'].unique())\n",
    "print(mush['stalk-surface-above-ring'].unique())\n",
    "print(mush['stalk-surface-below-ring'].unique())"
   ]
  },
  {
   "cell_type": "code",
   "execution_count": 56,
   "id": "f9370792",
   "metadata": {},
   "outputs": [],
   "source": [
    "mush['stalk-color-above-ring'] = mush['stalk-color-above-ring'].replace(['w','g','p','n','b','e','o','c','y'],[0,1,2,3,4,5,6,7,8])\n",
    "mush['stalk-color-below-ring'] = mush['stalk-color-below-ring'].replace(['w','g','p','n','b','e','o','c','y'],[0,1,2,3,4,5,6,7,8])\n",
    "mush['stalk-root'] = mush['stalk-root'].replace(['e','c','b','r','?'],[0,1,2,3,4])\n",
    "mush['stalk-shape'] = mush['stalk-shape'].replace(['e','t'],[0,1])\n",
    "mush['stalk-surface-above-ring'] = mush['stalk-surface-above-ring'].replace(['s','f','k','y'],[0,1,2,3])\n",
    "mush['stalk-surface-below-ring'] = mush['stalk-surface-below-ring'].replace(['s','f','k','y'],[0,1,2,3])"
   ]
  },
  {
   "cell_type": "code",
   "execution_count": 57,
   "id": "2f3b9cc9",
   "metadata": {},
   "outputs": [
    {
     "name": "stdout",
     "output_type": "stream",
     "text": [
      "['w' 'n' 'o' 'y']\n",
      "['p']\n"
     ]
    }
   ],
   "source": [
    "print(mush['veil-color'].unique())\n",
    "print(mush['veil-type'].unique())"
   ]
  },
  {
   "cell_type": "code",
   "execution_count": 58,
   "id": "3aff67dd",
   "metadata": {},
   "outputs": [],
   "source": [
    "mush['veil-color'] = mush['veil-color'].replace(['w','n','o','y'],[0,1,2,3])\n",
    "mush['veil-type'] = mush['veil-type'].replace(['p'],[0])"
   ]
  },
  {
   "cell_type": "code",
   "execution_count": 59,
   "id": "f4b8b03e",
   "metadata": {},
   "outputs": [
    {
     "name": "stdout",
     "output_type": "stream",
     "text": [
      "['p' 'e' 'l' 'f' 'n']\n",
      "['o' 't' 'n']\n"
     ]
    }
   ],
   "source": [
    "print(mush['ring-type'].unique())\n",
    "print(mush['ring-number'].unique())"
   ]
  },
  {
   "cell_type": "code",
   "execution_count": 60,
   "id": "026de1e3",
   "metadata": {},
   "outputs": [],
   "source": [
    "mush['ring-type'] = mush['ring-type'].replace(['p','e','l','f','n'],[0,1,2,3,4])\n",
    "mush['ring-number'] = mush['ring-number'].replace(['o','t','n'],[0,1,2])"
   ]
  },
  {
   "cell_type": "code",
   "execution_count": 61,
   "id": "62040f7b",
   "metadata": {},
   "outputs": [
    {
     "name": "stdout",
     "output_type": "stream",
     "text": [
      "['k' 'n' 'u' 'h' 'w' 'r' 'o' 'y' 'b']\n",
      "['u' 'g' 'm' 'd' 'p' 'w' 'l']\n",
      "['s' 'n' 'a' 'v' 'y' 'c']\n"
     ]
    }
   ],
   "source": [
    "print(mush['spore-print-color'].unique())\n",
    "print(mush['habitat'].unique())\n",
    "print(mush['population'].unique())"
   ]
  },
  {
   "cell_type": "code",
   "execution_count": 62,
   "id": "869210f9",
   "metadata": {},
   "outputs": [],
   "source": [
    "mush['spore-print-color'] = mush['spore-print-color'].replace(['k','n','u','h','w','r','o','y','b'],[0,1,2,3,4,5,6,7,8])\n",
    "mush['habitat'] = mush['habitat'].replace(['u','g','m','d','p','w','l'],[0,1,2,3,4,5,6])\n",
    "mush['population'] = mush['population'].replace(['s','n','a','v','y','c'],[0,1,2,3,4,5])"
   ]
  },
  {
   "cell_type": "code",
   "execution_count": 63,
   "id": "2fb40e32",
   "metadata": {},
   "outputs": [
    {
     "data": {
      "text/html": [
       "<div>\n",
       "<style scoped>\n",
       "    .dataframe tbody tr th:only-of-type {\n",
       "        vertical-align: middle;\n",
       "    }\n",
       "\n",
       "    .dataframe tbody tr th {\n",
       "        vertical-align: top;\n",
       "    }\n",
       "\n",
       "    .dataframe thead th {\n",
       "        text-align: right;\n",
       "    }\n",
       "</style>\n",
       "<table border=\"1\" class=\"dataframe\">\n",
       "  <thead>\n",
       "    <tr style=\"text-align: right;\">\n",
       "      <th></th>\n",
       "      <th>class</th>\n",
       "      <th>cap-shape</th>\n",
       "      <th>cap-surface</th>\n",
       "      <th>cap-color</th>\n",
       "      <th>bruises</th>\n",
       "      <th>odor</th>\n",
       "      <th>gill-attachment</th>\n",
       "      <th>gill-spacing</th>\n",
       "      <th>gill-size</th>\n",
       "      <th>gill-color</th>\n",
       "      <th>...</th>\n",
       "      <th>stalk-surface-below-ring</th>\n",
       "      <th>stalk-color-above-ring</th>\n",
       "      <th>stalk-color-below-ring</th>\n",
       "      <th>veil-type</th>\n",
       "      <th>veil-color</th>\n",
       "      <th>ring-number</th>\n",
       "      <th>ring-type</th>\n",
       "      <th>spore-print-color</th>\n",
       "      <th>population</th>\n",
       "      <th>habitat</th>\n",
       "    </tr>\n",
       "  </thead>\n",
       "  <tbody>\n",
       "    <tr>\n",
       "      <th>0</th>\n",
       "      <td>p</td>\n",
       "      <td>0</td>\n",
       "      <td>0</td>\n",
       "      <td>0</td>\n",
       "      <td>0</td>\n",
       "      <td>0</td>\n",
       "      <td>0</td>\n",
       "      <td>0</td>\n",
       "      <td>0</td>\n",
       "      <td>0</td>\n",
       "      <td>...</td>\n",
       "      <td>0</td>\n",
       "      <td>0</td>\n",
       "      <td>0</td>\n",
       "      <td>0</td>\n",
       "      <td>0</td>\n",
       "      <td>0</td>\n",
       "      <td>0</td>\n",
       "      <td>0</td>\n",
       "      <td>0</td>\n",
       "      <td>0</td>\n",
       "    </tr>\n",
       "    <tr>\n",
       "      <th>1</th>\n",
       "      <td>e</td>\n",
       "      <td>0</td>\n",
       "      <td>0</td>\n",
       "      <td>1</td>\n",
       "      <td>0</td>\n",
       "      <td>1</td>\n",
       "      <td>0</td>\n",
       "      <td>0</td>\n",
       "      <td>1</td>\n",
       "      <td>0</td>\n",
       "      <td>...</td>\n",
       "      <td>0</td>\n",
       "      <td>0</td>\n",
       "      <td>0</td>\n",
       "      <td>0</td>\n",
       "      <td>0</td>\n",
       "      <td>0</td>\n",
       "      <td>0</td>\n",
       "      <td>1</td>\n",
       "      <td>1</td>\n",
       "      <td>1</td>\n",
       "    </tr>\n",
       "    <tr>\n",
       "      <th>2</th>\n",
       "      <td>e</td>\n",
       "      <td>1</td>\n",
       "      <td>0</td>\n",
       "      <td>2</td>\n",
       "      <td>0</td>\n",
       "      <td>2</td>\n",
       "      <td>0</td>\n",
       "      <td>0</td>\n",
       "      <td>1</td>\n",
       "      <td>1</td>\n",
       "      <td>...</td>\n",
       "      <td>0</td>\n",
       "      <td>0</td>\n",
       "      <td>0</td>\n",
       "      <td>0</td>\n",
       "      <td>0</td>\n",
       "      <td>0</td>\n",
       "      <td>0</td>\n",
       "      <td>1</td>\n",
       "      <td>1</td>\n",
       "      <td>2</td>\n",
       "    </tr>\n",
       "    <tr>\n",
       "      <th>3</th>\n",
       "      <td>p</td>\n",
       "      <td>0</td>\n",
       "      <td>1</td>\n",
       "      <td>2</td>\n",
       "      <td>0</td>\n",
       "      <td>0</td>\n",
       "      <td>0</td>\n",
       "      <td>0</td>\n",
       "      <td>0</td>\n",
       "      <td>1</td>\n",
       "      <td>...</td>\n",
       "      <td>0</td>\n",
       "      <td>0</td>\n",
       "      <td>0</td>\n",
       "      <td>0</td>\n",
       "      <td>0</td>\n",
       "      <td>0</td>\n",
       "      <td>0</td>\n",
       "      <td>0</td>\n",
       "      <td>0</td>\n",
       "      <td>0</td>\n",
       "    </tr>\n",
       "    <tr>\n",
       "      <th>4</th>\n",
       "      <td>e</td>\n",
       "      <td>0</td>\n",
       "      <td>0</td>\n",
       "      <td>3</td>\n",
       "      <td>1</td>\n",
       "      <td>3</td>\n",
       "      <td>0</td>\n",
       "      <td>1</td>\n",
       "      <td>1</td>\n",
       "      <td>0</td>\n",
       "      <td>...</td>\n",
       "      <td>0</td>\n",
       "      <td>0</td>\n",
       "      <td>0</td>\n",
       "      <td>0</td>\n",
       "      <td>0</td>\n",
       "      <td>0</td>\n",
       "      <td>1</td>\n",
       "      <td>1</td>\n",
       "      <td>2</td>\n",
       "      <td>1</td>\n",
       "    </tr>\n",
       "  </tbody>\n",
       "</table>\n",
       "<p>5 rows × 23 columns</p>\n",
       "</div>"
      ],
      "text/plain": [
       "  class  cap-shape  cap-surface  cap-color  bruises  odor  gill-attachment  \\\n",
       "0     p          0            0          0        0     0                0   \n",
       "1     e          0            0          1        0     1                0   \n",
       "2     e          1            0          2        0     2                0   \n",
       "3     p          0            1          2        0     0                0   \n",
       "4     e          0            0          3        1     3                0   \n",
       "\n",
       "   gill-spacing  gill-size  gill-color  ...  stalk-surface-below-ring  \\\n",
       "0             0          0           0  ...                         0   \n",
       "1             0          1           0  ...                         0   \n",
       "2             0          1           1  ...                         0   \n",
       "3             0          0           1  ...                         0   \n",
       "4             1          1           0  ...                         0   \n",
       "\n",
       "   stalk-color-above-ring  stalk-color-below-ring  veil-type  veil-color  \\\n",
       "0                       0                       0          0           0   \n",
       "1                       0                       0          0           0   \n",
       "2                       0                       0          0           0   \n",
       "3                       0                       0          0           0   \n",
       "4                       0                       0          0           0   \n",
       "\n",
       "   ring-number  ring-type  spore-print-color  population  habitat  \n",
       "0            0          0                  0           0        0  \n",
       "1            0          0                  1           1        1  \n",
       "2            0          0                  1           1        2  \n",
       "3            0          0                  0           0        0  \n",
       "4            0          1                  1           2        1  \n",
       "\n",
       "[5 rows x 23 columns]"
      ]
     },
     "execution_count": 63,
     "metadata": {},
     "output_type": "execute_result"
    }
   ],
   "source": [
    "mush.head()"
   ]
  },
  {
   "cell_type": "markdown",
   "id": "0f1b42dd",
   "metadata": {},
   "source": [
    "#### Splitting data into target column and rest of the columns"
   ]
  },
  {
   "cell_type": "code",
   "execution_count": 64,
   "id": "16c21492",
   "metadata": {},
   "outputs": [],
   "source": [
    "X = mush.drop(['class'], axis= 1)\n",
    "y = mush['class']"
   ]
  },
  {
   "cell_type": "code",
   "execution_count": 65,
   "id": "b9a224fe",
   "metadata": {},
   "outputs": [],
   "source": [
    "lr = LogisticRegression()\n",
    "dtree = DecisionTreeClassifier(criterion= 'entropy', max_depth= 5)"
   ]
  },
  {
   "cell_type": "markdown",
   "id": "d0103d05",
   "metadata": {},
   "source": [
    "#### Checking cross validaton score for both algorithms"
   ]
  },
  {
   "cell_type": "code",
   "execution_count": 66,
   "id": "7e380dcf",
   "metadata": {},
   "outputs": [
    {
     "name": "stderr",
     "output_type": "stream",
     "text": [
      "C:\\Users\\vibhu_o95hv7f\\anaconda3\\lib\\site-packages\\sklearn\\linear_model\\_logistic.py:763: ConvergenceWarning: lbfgs failed to converge (status=1):\n",
      "STOP: TOTAL NO. of ITERATIONS REACHED LIMIT.\n",
      "\n",
      "Increase the number of iterations (max_iter) or scale the data as shown in:\n",
      "    https://scikit-learn.org/stable/modules/preprocessing.html\n",
      "Please also refer to the documentation for alternative solver options:\n",
      "    https://scikit-learn.org/stable/modules/linear_model.html#logistic-regression\n",
      "  n_iter_i = _check_optimize_result(\n",
      "C:\\Users\\vibhu_o95hv7f\\anaconda3\\lib\\site-packages\\sklearn\\linear_model\\_logistic.py:763: ConvergenceWarning: lbfgs failed to converge (status=1):\n",
      "STOP: TOTAL NO. of ITERATIONS REACHED LIMIT.\n",
      "\n",
      "Increase the number of iterations (max_iter) or scale the data as shown in:\n",
      "    https://scikit-learn.org/stable/modules/preprocessing.html\n",
      "Please also refer to the documentation for alternative solver options:\n",
      "    https://scikit-learn.org/stable/modules/linear_model.html#logistic-regression\n",
      "  n_iter_i = _check_optimize_result(\n",
      "C:\\Users\\vibhu_o95hv7f\\anaconda3\\lib\\site-packages\\sklearn\\linear_model\\_logistic.py:763: ConvergenceWarning: lbfgs failed to converge (status=1):\n",
      "STOP: TOTAL NO. of ITERATIONS REACHED LIMIT.\n",
      "\n",
      "Increase the number of iterations (max_iter) or scale the data as shown in:\n",
      "    https://scikit-learn.org/stable/modules/preprocessing.html\n",
      "Please also refer to the documentation for alternative solver options:\n",
      "    https://scikit-learn.org/stable/modules/linear_model.html#logistic-regression\n",
      "  n_iter_i = _check_optimize_result(\n",
      "C:\\Users\\vibhu_o95hv7f\\anaconda3\\lib\\site-packages\\sklearn\\linear_model\\_logistic.py:763: ConvergenceWarning: lbfgs failed to converge (status=1):\n",
      "STOP: TOTAL NO. of ITERATIONS REACHED LIMIT.\n",
      "\n",
      "Increase the number of iterations (max_iter) or scale the data as shown in:\n",
      "    https://scikit-learn.org/stable/modules/preprocessing.html\n",
      "Please also refer to the documentation for alternative solver options:\n",
      "    https://scikit-learn.org/stable/modules/linear_model.html#logistic-regression\n",
      "  n_iter_i = _check_optimize_result(\n",
      "C:\\Users\\vibhu_o95hv7f\\anaconda3\\lib\\site-packages\\sklearn\\linear_model\\_logistic.py:763: ConvergenceWarning: lbfgs failed to converge (status=1):\n",
      "STOP: TOTAL NO. of ITERATIONS REACHED LIMIT.\n",
      "\n",
      "Increase the number of iterations (max_iter) or scale the data as shown in:\n",
      "    https://scikit-learn.org/stable/modules/preprocessing.html\n",
      "Please also refer to the documentation for alternative solver options:\n",
      "    https://scikit-learn.org/stable/modules/linear_model.html#logistic-regression\n",
      "  n_iter_i = _check_optimize_result(\n"
     ]
    },
    {
     "data": {
      "text/plain": [
       "array([0.84246154, 0.99507692, 0.96061538, 0.99630769, 0.62684729])"
      ]
     },
     "execution_count": 66,
     "metadata": {},
     "output_type": "execute_result"
    }
   ],
   "source": [
    "cross_val_score(lr, X, y, cv= 5)"
   ]
  },
  {
   "cell_type": "code",
   "execution_count": 67,
   "id": "df72768f",
   "metadata": {},
   "outputs": [
    {
     "data": {
      "text/plain": [
       "array([0.84246154, 0.99938462, 0.94953846, 1.        , 0.69950739])"
      ]
     },
     "execution_count": 67,
     "metadata": {},
     "output_type": "execute_result"
    }
   ],
   "source": [
    "cross_val_score(dtree, X, y, cv= 5)"
   ]
  },
  {
   "cell_type": "markdown",
   "id": "b27a45b3",
   "metadata": {},
   "source": [
    "By calculating average cross_val_score for both algorithms, we can conclude that Decision tree classifier algorithm is more accurate in this dataset prediction as compare to logistic regression algorithm.\n",
    "\n",
    "#### Splitting the data into test and train data"
   ]
  },
  {
   "cell_type": "code",
   "execution_count": 68,
   "id": "4d6d45c4",
   "metadata": {},
   "outputs": [],
   "source": [
    "X_train, X_test, y_train, y_test = train_test_split(X, y, test_size= 0.3, random_state= 1)"
   ]
  },
  {
   "cell_type": "code",
   "execution_count": 69,
   "id": "9c88c371",
   "metadata": {},
   "outputs": [],
   "source": [
    "pred = dtree.fit(X_train, y_train).predict(X_test)"
   ]
  },
  {
   "cell_type": "code",
   "execution_count": 70,
   "id": "00e5e958",
   "metadata": {},
   "outputs": [
    {
     "data": {
      "text/html": [
       "<div>\n",
       "<style scoped>\n",
       "    .dataframe tbody tr th:only-of-type {\n",
       "        vertical-align: middle;\n",
       "    }\n",
       "\n",
       "    .dataframe tbody tr th {\n",
       "        vertical-align: top;\n",
       "    }\n",
       "\n",
       "    .dataframe thead th {\n",
       "        text-align: right;\n",
       "    }\n",
       "</style>\n",
       "<table border=\"1\" class=\"dataframe\">\n",
       "  <thead>\n",
       "    <tr style=\"text-align: right;\">\n",
       "      <th></th>\n",
       "      <th>Actual</th>\n",
       "      <th>Prediction</th>\n",
       "    </tr>\n",
       "  </thead>\n",
       "  <tbody>\n",
       "    <tr>\n",
       "      <th>1392</th>\n",
       "      <td>e</td>\n",
       "      <td>e</td>\n",
       "    </tr>\n",
       "    <tr>\n",
       "      <th>4051</th>\n",
       "      <td>p</td>\n",
       "      <td>p</td>\n",
       "    </tr>\n",
       "    <tr>\n",
       "      <th>3725</th>\n",
       "      <td>p</td>\n",
       "      <td>p</td>\n",
       "    </tr>\n",
       "    <tr>\n",
       "      <th>7177</th>\n",
       "      <td>p</td>\n",
       "      <td>p</td>\n",
       "    </tr>\n",
       "    <tr>\n",
       "      <th>103</th>\n",
       "      <td>e</td>\n",
       "      <td>e</td>\n",
       "    </tr>\n",
       "  </tbody>\n",
       "</table>\n",
       "</div>"
      ],
      "text/plain": [
       "     Actual Prediction\n",
       "1392      e          e\n",
       "4051      p          p\n",
       "3725      p          p\n",
       "7177      p          p\n",
       "103       e          e"
      ]
     },
     "execution_count": 70,
     "metadata": {},
     "output_type": "execute_result"
    }
   ],
   "source": [
    "df = pd.DataFrame({'Actual': y_test, 'Prediction': pred})\n",
    "\n",
    "df.head()"
   ]
  },
  {
   "cell_type": "markdown",
   "id": "e4bb65c7",
   "metadata": {},
   "source": [
    "#### Now checking the accuracy of model using different metrics"
   ]
  },
  {
   "cell_type": "code",
   "execution_count": 71,
   "id": "5e13a37c",
   "metadata": {},
   "outputs": [
    {
     "name": "stdout",
     "output_type": "stream",
     "text": [
      "Accuracy score :  0.9967186218211649\n",
      "Confusion metrics : \n"
     ]
    },
    {
     "data": {
      "text/plain": [
       "array([[1236,    0],\n",
       "       [   8, 1194]], dtype=int64)"
      ]
     },
     "execution_count": 71,
     "metadata": {},
     "output_type": "execute_result"
    }
   ],
   "source": [
    "print('Accuracy score : ', metrics.accuracy_score(y_test, pred))\n",
    "print('Confusion metrics : ')\n",
    "metrics.confusion_matrix(y_test, pred)"
   ]
  },
  {
   "cell_type": "markdown",
   "id": "113f9194",
   "metadata": {},
   "source": [
    "#### By looking at both metrics result we can conclude that this model is very accurate in prediction of this dataset. The accuracy score 0.996 which is very high and in confusion metrics there are only 8 false negative outcome, else the other outcomes are very accurate. Hence the model is precise and accurate for this model. So, the objective has been achieved."
   ]
  },
  {
   "cell_type": "code",
   "execution_count": null,
   "id": "e4458d4d",
   "metadata": {},
   "outputs": [],
   "source": []
  }
 ],
 "metadata": {
  "kernelspec": {
   "display_name": "Python 3",
   "language": "python",
   "name": "python3"
  },
  "language_info": {
   "codemirror_mode": {
    "name": "ipython",
    "version": 3
   },
   "file_extension": ".py",
   "mimetype": "text/x-python",
   "name": "python",
   "nbconvert_exporter": "python",
   "pygments_lexer": "ipython3",
   "version": "3.8.8"
  }
 },
 "nbformat": 4,
 "nbformat_minor": 5
}
