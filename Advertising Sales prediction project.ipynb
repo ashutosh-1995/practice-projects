{
 "cells": [
  {
   "cell_type": "markdown",
   "id": "471330b2",
   "metadata": {},
   "source": [
    "# Task : To predict total sales on the basis of advertising chanels.\n",
    "\n",
    "In this task we need to predict the sales of product on the basis of it advertisement methods and ways like radio, TV and newspaper.\n",
    "\n",
    "* The target variable is sales.\n",
    "\n",
    "#### Importing various libraries necessary for this task."
   ]
  },
  {
   "cell_type": "code",
   "execution_count": 1,
   "id": "04b69914",
   "metadata": {},
   "outputs": [],
   "source": [
    "import numpy as np\n",
    "import pandas as pd\n",
    "import matplotlib.pyplot as plt\n",
    "import seaborn as sns\n",
    "from sklearn.model_selection import train_test_split, GridSearchCV\n",
    "from sklearn.preprocessing import StandardScaler\n",
    "from sklearn.linear_model import LinearRegression\n",
    "from sklearn.tree import DecisionTreeRegressor\n",
    "from sklearn.ensemble import RandomForestRegressor, BaggingRegressor\n",
    "from sklearn import metrics\n",
    "import warnings\n",
    "warnings.filterwarnings('ignore')"
   ]
  },
  {
   "cell_type": "code",
   "execution_count": 2,
   "id": "118d5b27",
   "metadata": {},
   "outputs": [],
   "source": [
    "sales = pd.read_csv('./Downloads/Advertising.csv')"
   ]
  },
  {
   "cell_type": "code",
   "execution_count": 3,
   "id": "10f534df",
   "metadata": {},
   "outputs": [
    {
     "data": {
      "text/html": [
       "<div>\n",
       "<style scoped>\n",
       "    .dataframe tbody tr th:only-of-type {\n",
       "        vertical-align: middle;\n",
       "    }\n",
       "\n",
       "    .dataframe tbody tr th {\n",
       "        vertical-align: top;\n",
       "    }\n",
       "\n",
       "    .dataframe thead th {\n",
       "        text-align: right;\n",
       "    }\n",
       "</style>\n",
       "<table border=\"1\" class=\"dataframe\">\n",
       "  <thead>\n",
       "    <tr style=\"text-align: right;\">\n",
       "      <th></th>\n",
       "      <th>Unnamed: 0</th>\n",
       "      <th>TV</th>\n",
       "      <th>radio</th>\n",
       "      <th>newspaper</th>\n",
       "      <th>sales</th>\n",
       "    </tr>\n",
       "  </thead>\n",
       "  <tbody>\n",
       "    <tr>\n",
       "      <th>0</th>\n",
       "      <td>1</td>\n",
       "      <td>230.1</td>\n",
       "      <td>37.8</td>\n",
       "      <td>69.2</td>\n",
       "      <td>22.1</td>\n",
       "    </tr>\n",
       "    <tr>\n",
       "      <th>1</th>\n",
       "      <td>2</td>\n",
       "      <td>44.5</td>\n",
       "      <td>39.3</td>\n",
       "      <td>45.1</td>\n",
       "      <td>10.4</td>\n",
       "    </tr>\n",
       "    <tr>\n",
       "      <th>2</th>\n",
       "      <td>3</td>\n",
       "      <td>17.2</td>\n",
       "      <td>45.9</td>\n",
       "      <td>69.3</td>\n",
       "      <td>9.3</td>\n",
       "    </tr>\n",
       "    <tr>\n",
       "      <th>3</th>\n",
       "      <td>4</td>\n",
       "      <td>151.5</td>\n",
       "      <td>41.3</td>\n",
       "      <td>58.5</td>\n",
       "      <td>18.5</td>\n",
       "    </tr>\n",
       "    <tr>\n",
       "      <th>4</th>\n",
       "      <td>5</td>\n",
       "      <td>180.8</td>\n",
       "      <td>10.8</td>\n",
       "      <td>58.4</td>\n",
       "      <td>12.9</td>\n",
       "    </tr>\n",
       "  </tbody>\n",
       "</table>\n",
       "</div>"
      ],
      "text/plain": [
       "   Unnamed: 0     TV  radio  newspaper  sales\n",
       "0           1  230.1   37.8       69.2   22.1\n",
       "1           2   44.5   39.3       45.1   10.4\n",
       "2           3   17.2   45.9       69.3    9.3\n",
       "3           4  151.5   41.3       58.5   18.5\n",
       "4           5  180.8   10.8       58.4   12.9"
      ]
     },
     "execution_count": 3,
     "metadata": {},
     "output_type": "execute_result"
    }
   ],
   "source": [
    "sales.head()"
   ]
  },
  {
   "cell_type": "markdown",
   "id": "f0d1474c",
   "metadata": {},
   "source": [
    "#### We need to check the dimension, description and pressence of null values in dataset"
   ]
  },
  {
   "cell_type": "code",
   "execution_count": 4,
   "id": "d0c2bb3e",
   "metadata": {},
   "outputs": [
    {
     "data": {
      "text/plain": [
       "(200, 5)"
      ]
     },
     "execution_count": 4,
     "metadata": {},
     "output_type": "execute_result"
    }
   ],
   "source": [
    "sales.shape"
   ]
  },
  {
   "cell_type": "code",
   "execution_count": 5,
   "id": "2b90af03",
   "metadata": {},
   "outputs": [
    {
     "data": {
      "text/html": [
       "<div>\n",
       "<style scoped>\n",
       "    .dataframe tbody tr th:only-of-type {\n",
       "        vertical-align: middle;\n",
       "    }\n",
       "\n",
       "    .dataframe tbody tr th {\n",
       "        vertical-align: top;\n",
       "    }\n",
       "\n",
       "    .dataframe thead th {\n",
       "        text-align: right;\n",
       "    }\n",
       "</style>\n",
       "<table border=\"1\" class=\"dataframe\">\n",
       "  <thead>\n",
       "    <tr style=\"text-align: right;\">\n",
       "      <th></th>\n",
       "      <th>Unnamed: 0</th>\n",
       "      <th>TV</th>\n",
       "      <th>radio</th>\n",
       "      <th>newspaper</th>\n",
       "      <th>sales</th>\n",
       "    </tr>\n",
       "  </thead>\n",
       "  <tbody>\n",
       "    <tr>\n",
       "      <th>count</th>\n",
       "      <td>200.000000</td>\n",
       "      <td>200.000000</td>\n",
       "      <td>200.000000</td>\n",
       "      <td>200.000000</td>\n",
       "      <td>200.000000</td>\n",
       "    </tr>\n",
       "    <tr>\n",
       "      <th>mean</th>\n",
       "      <td>100.500000</td>\n",
       "      <td>147.042500</td>\n",
       "      <td>23.264000</td>\n",
       "      <td>30.554000</td>\n",
       "      <td>14.022500</td>\n",
       "    </tr>\n",
       "    <tr>\n",
       "      <th>std</th>\n",
       "      <td>57.879185</td>\n",
       "      <td>85.854236</td>\n",
       "      <td>14.846809</td>\n",
       "      <td>21.778621</td>\n",
       "      <td>5.217457</td>\n",
       "    </tr>\n",
       "    <tr>\n",
       "      <th>min</th>\n",
       "      <td>1.000000</td>\n",
       "      <td>0.700000</td>\n",
       "      <td>0.000000</td>\n",
       "      <td>0.300000</td>\n",
       "      <td>1.600000</td>\n",
       "    </tr>\n",
       "    <tr>\n",
       "      <th>25%</th>\n",
       "      <td>50.750000</td>\n",
       "      <td>74.375000</td>\n",
       "      <td>9.975000</td>\n",
       "      <td>12.750000</td>\n",
       "      <td>10.375000</td>\n",
       "    </tr>\n",
       "    <tr>\n",
       "      <th>50%</th>\n",
       "      <td>100.500000</td>\n",
       "      <td>149.750000</td>\n",
       "      <td>22.900000</td>\n",
       "      <td>25.750000</td>\n",
       "      <td>12.900000</td>\n",
       "    </tr>\n",
       "    <tr>\n",
       "      <th>75%</th>\n",
       "      <td>150.250000</td>\n",
       "      <td>218.825000</td>\n",
       "      <td>36.525000</td>\n",
       "      <td>45.100000</td>\n",
       "      <td>17.400000</td>\n",
       "    </tr>\n",
       "    <tr>\n",
       "      <th>max</th>\n",
       "      <td>200.000000</td>\n",
       "      <td>296.400000</td>\n",
       "      <td>49.600000</td>\n",
       "      <td>114.000000</td>\n",
       "      <td>27.000000</td>\n",
       "    </tr>\n",
       "  </tbody>\n",
       "</table>\n",
       "</div>"
      ],
      "text/plain": [
       "       Unnamed: 0          TV       radio   newspaper       sales\n",
       "count  200.000000  200.000000  200.000000  200.000000  200.000000\n",
       "mean   100.500000  147.042500   23.264000   30.554000   14.022500\n",
       "std     57.879185   85.854236   14.846809   21.778621    5.217457\n",
       "min      1.000000    0.700000    0.000000    0.300000    1.600000\n",
       "25%     50.750000   74.375000    9.975000   12.750000   10.375000\n",
       "50%    100.500000  149.750000   22.900000   25.750000   12.900000\n",
       "75%    150.250000  218.825000   36.525000   45.100000   17.400000\n",
       "max    200.000000  296.400000   49.600000  114.000000   27.000000"
      ]
     },
     "execution_count": 5,
     "metadata": {},
     "output_type": "execute_result"
    }
   ],
   "source": [
    "sales.describe()"
   ]
  },
  {
   "cell_type": "code",
   "execution_count": 6,
   "id": "548e4340",
   "metadata": {},
   "outputs": [
    {
     "data": {
      "text/plain": [
       "Unnamed: 0    0\n",
       "TV            0\n",
       "radio         0\n",
       "newspaper     0\n",
       "sales         0\n",
       "dtype: int64"
      ]
     },
     "execution_count": 6,
     "metadata": {},
     "output_type": "execute_result"
    }
   ],
   "source": [
    "sales.isnull().sum()"
   ]
  },
  {
   "cell_type": "markdown",
   "id": "712f2bc8",
   "metadata": {},
   "source": [
    "From the above we get to know that :\n",
    "* dataset has 200 rows and 5 columns\n",
    "* description of the dataset is giving the mean, max value, min value, etc of each column of the dataset.\n",
    "* we get to know that there is no null value present in the dataset.\n",
    "\n",
    "#### EDA\n",
    "1. Unnamed: 0"
   ]
  },
  {
   "cell_type": "code",
   "execution_count": 7,
   "id": "8e73356c",
   "metadata": {},
   "outputs": [
    {
     "data": {
      "text/plain": [
       "array([  1,   2,   3,   4,   5,   6,   7,   8,   9,  10,  11,  12,  13,\n",
       "        14,  15,  16,  17,  18,  19,  20,  21,  22,  23,  24,  25,  26,\n",
       "        27,  28,  29,  30,  31,  32,  33,  34,  35,  36,  37,  38,  39,\n",
       "        40,  41,  42,  43,  44,  45,  46,  47,  48,  49,  50,  51,  52,\n",
       "        53,  54,  55,  56,  57,  58,  59,  60,  61,  62,  63,  64,  65,\n",
       "        66,  67,  68,  69,  70,  71,  72,  73,  74,  75,  76,  77,  78,\n",
       "        79,  80,  81,  82,  83,  84,  85,  86,  87,  88,  89,  90,  91,\n",
       "        92,  93,  94,  95,  96,  97,  98,  99, 100, 101, 102, 103, 104,\n",
       "       105, 106, 107, 108, 109, 110, 111, 112, 113, 114, 115, 116, 117,\n",
       "       118, 119, 120, 121, 122, 123, 124, 125, 126, 127, 128, 129, 130,\n",
       "       131, 132, 133, 134, 135, 136, 137, 138, 139, 140, 141, 142, 143,\n",
       "       144, 145, 146, 147, 148, 149, 150, 151, 152, 153, 154, 155, 156,\n",
       "       157, 158, 159, 160, 161, 162, 163, 164, 165, 166, 167, 168, 169,\n",
       "       170, 171, 172, 173, 174, 175, 176, 177, 178, 179, 180, 181, 182,\n",
       "       183, 184, 185, 186, 187, 188, 189, 190, 191, 192, 193, 194, 195,\n",
       "       196, 197, 198, 199, 200], dtype=int64)"
      ]
     },
     "execution_count": 7,
     "metadata": {},
     "output_type": "execute_result"
    }
   ],
   "source": [
    "sales['Unnamed: 0'].unique()"
   ]
  },
  {
   "cell_type": "markdown",
   "id": "9850ae79",
   "metadata": {},
   "source": [
    "By looking at the data of above column we can conclude that it is a sort of index present in the column and it will not affect the sales in anyway. This conclusion was reached on the basis of common sense and this column can be dropped without wasting anytime.\n",
    "\n",
    "2. TV"
   ]
  },
  {
   "cell_type": "code",
   "execution_count": 8,
   "id": "48a95edc",
   "metadata": {},
   "outputs": [
    {
     "data": {
      "text/plain": [
       "array([230.1,  44.5,  17.2, 151.5, 180.8,   8.7,  57.5, 120.2,   8.6,\n",
       "       199.8,  66.1, 214.7,  23.8,  97.5, 204.1, 195.4,  67.8, 281.4,\n",
       "        69.2, 147.3, 218.4, 237.4,  13.2, 228.3,  62.3, 262.9, 142.9,\n",
       "       240.1, 248.8,  70.6, 292.9, 112.9,  97.2, 265.6,  95.7, 290.7,\n",
       "       266.9,  74.7,  43.1, 228. , 202.5, 177. , 293.6, 206.9,  25.1,\n",
       "       175.1,  89.7, 239.9, 227.2,  66.9, 100.4, 216.4, 182.6, 262.7,\n",
       "       198.9,   7.3, 136.2, 210.8, 210.7,  53.5, 261.3, 239.3, 102.7,\n",
       "       131.1,  69. ,  31.5, 139.3, 216.8, 199.1, 109.8,  26.8, 129.4,\n",
       "       213.4,  16.9,  27.5, 120.5,   5.4, 116. ,  76.4, 239.8,  75.3,\n",
       "        68.4, 213.5, 193.2,  76.3, 110.7,  88.3, 134.3,  28.6, 217.7,\n",
       "       250.9, 107.4, 163.3, 197.6, 184.9, 289.7, 135.2, 222.4, 296.4,\n",
       "       280.2, 187.9, 238.2, 137.9,  25. ,  90.4,  13.1, 255.4, 225.8,\n",
       "       241.7, 175.7, 209.6,  78.2,  75.1, 139.2, 125.7,  19.4, 141.3,\n",
       "        18.8, 224. , 123.1, 229.5,  87.2,   7.8,  80.2, 220.3,  59.6,\n",
       "         0.7, 265.2,   8.4, 219.8,  36.9,  48.3,  25.6, 273.7,  43. ,\n",
       "        73.4, 193.7, 220.5, 104.6,  96.2, 140.3, 243.2,  38. ,  44.7,\n",
       "       280.7, 121. , 171.3, 187.8,   4.1,  93.9, 149.8,  11.7, 131.7,\n",
       "       172.5,  85.7, 188.4, 163.5, 117.2, 234.5,  17.9, 206.8, 215.4,\n",
       "       284.3,  50. , 164.5,  19.6, 168.4, 276.9, 248.4, 170.2, 276.7,\n",
       "       165.6, 156.6, 218.5,  56.2, 287.6, 253.8, 205. , 139.5, 191.1,\n",
       "       286. ,  18.7,  39.5,  75.5, 166.8, 149.7,  38.2,  94.2, 283.6,\n",
       "       232.1])"
      ]
     },
     "execution_count": 8,
     "metadata": {},
     "output_type": "execute_result"
    }
   ],
   "source": [
    "sales['TV'].unique()"
   ]
  },
  {
   "cell_type": "code",
   "execution_count": 9,
   "id": "dfdd0ad1",
   "metadata": {},
   "outputs": [
    {
     "data": {
      "image/png": "[encoded data removed]",
      "text/plain": [
       "<Figure size 1080x1080 with 2 Axes>"
      ]
     },
     "metadata": {
      "needs_background": "light"
     },
     "output_type": "display_data"
    }
   ],
   "source": [
    "plt.figure(figsize= [15,15])\n",
    "plt.subplot(221)\n",
    "sns.distplot(sales['TV'])\n",
    "plt.xlabel('TV')\n",
    "plt.subplot(222)\n",
    "sns.scatterplot(x= 'TV', y= 'sales', data= sales)\n",
    "plt.xlabel('TV')\n",
    "plt.ylabel('sales')\n",
    "plt.show()"
   ]
  },
  {
   "cell_type": "markdown",
   "id": "3c95f357",
   "metadata": {},
   "source": [
    "By looking at both the graphs of TV we can conclude that it is difficult to determine the skewness of the data with data having the highest density between 200 and 230 from the distplot and from the scatterplot we can conclude that data is showing positive correlation with target variable by showing us that in the graph while increasing the data is looking more scattered than the beginning giving the shape reverse distorted cone.\n",
    "\n",
    "3. radio"
   ]
  },
  {
   "cell_type": "code",
   "execution_count": 10,
   "id": "0cef5264",
   "metadata": {},
   "outputs": [
    {
     "data": {
      "text/plain": [
       "array([37.8, 39.3, 45.9, 41.3, 10.8, 48.9, 32.8, 19.6,  2.1,  2.6,  5.8,\n",
       "       24. , 35.1,  7.6, 32.9, 47.7, 36.6, 39.6, 20.5, 23.9, 27.7,  5.1,\n",
       "       15.9, 16.9, 12.6,  3.5, 29.3, 16.7, 27.1, 16. , 28.3, 17.4,  1.5,\n",
       "       20. ,  1.4,  4.1, 43.8, 49.4, 26.7, 37.7, 22.3, 33.4,  8.4, 25.7,\n",
       "       22.5,  9.9, 41.5, 15.8, 11.7,  3.1,  9.6, 41.7, 46.2, 28.8, 28.1,\n",
       "       19.2, 49.6, 29.5,  2. , 42.7, 15.5, 29.6, 42.8,  9.3, 24.6, 14.5,\n",
       "       27.5, 43.9, 30.6, 14.3, 33. ,  5.7, 43.7,  1.6, 28.5, 29.9,  7.7,\n",
       "       20.3, 44.5, 43. , 18.4, 40.6, 25.5, 47.8,  4.9, 33.5, 36.5, 14. ,\n",
       "       31.6, 21. , 42.3,  4.3, 36.3, 10.1, 17.2, 34.3, 46.4, 11. ,  0.3,\n",
       "        0.4, 26.9,  8.2, 38. , 15.4, 20.6, 46.8, 35. ,  0.8, 36.9, 26.8,\n",
       "       21.7,  2.4, 34.6, 32.3, 11.8, 38.9,  0. , 49. , 12. ,  2.9, 27.2,\n",
       "       38.6, 47. , 39. , 28.9, 25.9, 17. , 35.4, 33.2, 14.8,  1.9,  7.3,\n",
       "       40.3, 25.8, 13.9, 23.3, 39.7, 21.1, 11.6, 43.5,  1.3, 18.1, 35.8,\n",
       "       36.8, 14.7,  3.4, 37.6,  5.2, 23.6, 10.6, 20.9, 20.1,  7.1, 30.2,\n",
       "        7.8,  2.3, 10. ,  5.4, 21.3, 45.1, 28.7, 12.1, 41.1, 42. , 35.6,\n",
       "        3.7,  8.6])"
      ]
     },
     "execution_count": 10,
     "metadata": {},
     "output_type": "execute_result"
    }
   ],
   "source": [
    "sales['radio'].unique()"
   ]
  },
  {
   "cell_type": "code",
   "execution_count": 11,
   "id": "9f799338",
   "metadata": {},
   "outputs": [
    {
     "data": {
      "image/png": "[encoded data removed]",
      "text/plain": [
       "<Figure size 1080x1080 with 2 Axes>"
      ]
     },
     "metadata": {
      "needs_background": "light"
     },
     "output_type": "display_data"
    }
   ],
   "source": [
    "plt.figure(figsize= [15,15])\n",
    "plt.subplot(221)\n",
    "sns.distplot(sales['radio'])\n",
    "plt.xlabel('radio')\n",
    "plt.subplot(222)\n",
    "sns.scatterplot(x= 'radio', y= 'sales', data= sales)\n",
    "plt.xlabel('radio')\n",
    "plt.ylabel('sales')\n",
    "plt.show()"
   ]
  },
  {
   "cell_type": "markdown",
   "id": "18caf44e",
   "metadata": {},
   "source": [
    "By looking at both the graphs of radio we can conclude that we cannot determine the skewness of the data and it is having the highest density between 0 and 5 from the distplot and from the scatterplot we can conclude that data is showing positive correlation with target column but data is scattered around from beginning to the end.\n",
    "\n",
    "4. newspaper"
   ]
  },
  {
   "cell_type": "code",
   "execution_count": 12,
   "id": "b0b050f3",
   "metadata": {},
   "outputs": [
    {
     "data": {
      "text/plain": [
       "array([ 69.2,  45.1,  69.3,  58.5,  58.4,  75. ,  23.5,  11.6,   1. ,\n",
       "        21.2,  24.2,   4. ,  65.9,   7.2,  46. ,  52.9, 114. ,  55.8,\n",
       "        18.3,  19.1,  53.4,  49.6,  26.2,  19.5,  12.6,  22.9,  40.8,\n",
       "        43.2,  38.6,  30. ,   0.3,   7.4,   8.5,   5. ,  45.7,  35.1,\n",
       "        32. ,  31.6,  38.7,   1.8,  26.4,  43.3,  31.5,  35.7,  18.5,\n",
       "        49.9,  36.8,  34.6,   3.6,  39.6,  58.7,  15.9,  60. ,  41.4,\n",
       "        16.6,  37.7,   9.3,  21.4,  54.7,  27.3,   8.4,  28.9,   0.9,\n",
       "         2.2,  10.2,  11. ,  27.2,  31.7,  19.3,  31.3,  13.1,  89.4,\n",
       "        20.7,  14.2,   9.4,  23.1,  22.3,  36.9,  32.5,  35.6,  33.8,\n",
       "        65.7,  16. ,  63.2,  73.4,  51.4,  33. ,  59. ,  72.3,  10.9,\n",
       "         5.9,  22. ,  51.2,  45.9,  49.8, 100.9,  17.9,   5.3,  29.7,\n",
       "        23.2,  25.6,   5.5,  56.5,   2.4,  10.7,  34.5,  52.7,  14.8,\n",
       "        79.2,  46.2,  50.4,  15.6,  12.4,  74.2,  25.9,  50.6,   9.2,\n",
       "         3.2,  43.1,   8.7,  43. ,   2.1,  65.6,  59.7,  20.5,   1.7,\n",
       "        12.9,  75.6,  37.9,  34.4,  38.9,   9. ,  44.3,  11.9,  20.6,\n",
       "        37. ,  48.7,   9.5,   5.7,  50.5,  24.3,  45.2,  30.7,  49.3,\n",
       "         5.4,  84.8,  21.6,  19.4,  57.6,   6.4,  18.4,  47.4,  17. ,\n",
       "        12.8,  41.8,  20.3,  35.2,  23.7,  17.6,   8.3,  27.4,  71.8,\n",
       "        19.6,  26.6,  18.2,   3.7,  23.4,   5.8,   6. ,  13.8,   8.1,\n",
       "        66.2])"
      ]
     },
     "execution_count": 12,
     "metadata": {},
     "output_type": "execute_result"
    }
   ],
   "source": [
    "sales['newspaper'].unique()"
   ]
  },
  {
   "cell_type": "code",
   "execution_count": 13,
   "id": "1b4b5cee",
   "metadata": {},
   "outputs": [
    {
     "data": {
      "image/png": "[encoded data removed]",
      "text/plain": [
       "<Figure size 1080x1080 with 2 Axes>"
      ]
     },
     "metadata": {
      "needs_background": "light"
     },
     "output_type": "display_data"
    }
   ],
   "source": [
    "plt.figure(figsize= [15,15])\n",
    "plt.subplot(221)\n",
    "sns.distplot(sales['newspaper'])\n",
    "plt.xlabel('newspaper')\n",
    "plt.subplot(222)\n",
    "sns.scatterplot(x= 'newspaper', y= 'sales', data= sales)\n",
    "plt.xlabel('newspaper')\n",
    "plt.ylabel('sales')\n",
    "plt.show()"
   ]
  },
  {
   "cell_type": "markdown",
   "id": "453ef018",
   "metadata": {},
   "source": [
    "By looking at both the graphs of newspaper we can conclude that data is positively skewed with having the highest density between 0 and 7 from the distplot and from the scatterplot we can conclude that the data is showing a little bit of positive correlation with the target column but it is scattered all over the place.\n",
    "\n",
    "#### Now creating the heatmap for correlation before dropping the unnecessary columns."
   ]
  },
  {
   "cell_type": "code",
   "execution_count": 14,
   "id": "18e19c61",
   "metadata": {},
   "outputs": [
    {
     "data": {
      "image/png": "[encoded data removed]",
      "text/plain": [
       "<Figure size 432x288 with 2 Axes>"
      ]
     },
     "metadata": {
      "needs_background": "light"
     },
     "output_type": "display_data"
    }
   ],
   "source": [
    "sns.heatmap(sales.corr(), annot= True)\n",
    "plt.show()"
   ]
  },
  {
   "cell_type": "markdown",
   "id": "949570bd",
   "metadata": {},
   "source": [
    "Heatmap is showing that target column (sales) is having high positive correlation with all the three ways of advertising (TV, radio, newspaper).\n",
    "\n",
    "#### Now dropping the column."
   ]
  },
  {
   "cell_type": "code",
   "execution_count": 15,
   "id": "68e14a3f",
   "metadata": {},
   "outputs": [],
   "source": [
    "sales.drop(['Unnamed: 0'], axis= 1, inplace= True)"
   ]
  },
  {
   "cell_type": "markdown",
   "id": "9e97ad51",
   "metadata": {},
   "source": [
    "#### Spliting the data into test and train set."
   ]
  },
  {
   "cell_type": "code",
   "execution_count": 16,
   "id": "3b400fb8",
   "metadata": {},
   "outputs": [],
   "source": [
    "X = sales.drop(['sales'], axis= 1)\n",
    "y = sales['sales']"
   ]
  },
  {
   "cell_type": "code",
   "execution_count": 17,
   "id": "51142904",
   "metadata": {},
   "outputs": [],
   "source": [
    "X_train, X_test, y_train, y_test = train_test_split(X, y, test_size= 0.2, random_state= 100)"
   ]
  },
  {
   "cell_type": "markdown",
   "id": "f71ebbd9",
   "metadata": {},
   "source": [
    "#### Now applying the GridSearchCV to find the best suitable model and for the Hyper parameter tuning.\n",
    "\n",
    "1. Linear Regression"
   ]
  },
  {
   "cell_type": "code",
   "execution_count": 18,
   "id": "4228f112",
   "metadata": {},
   "outputs": [],
   "source": [
    "lr = LinearRegression()"
   ]
  },
  {
   "cell_type": "code",
   "execution_count": 19,
   "id": "d1b9a7cb",
   "metadata": {},
   "outputs": [],
   "source": [
    "lrf = GridSearchCV(lr, param_grid= {'n_jobs': [1,2,3,4,5]}, scoring= 'r2', cv= 5)"
   ]
  },
  {
   "cell_type": "code",
   "execution_count": 20,
   "id": "3f72a241",
   "metadata": {},
   "outputs": [
    {
     "data": {
      "text/plain": [
       "GridSearchCV(cv=5, estimator=LinearRegression(),\n",
       "             param_grid={'n_jobs': [1, 2, 3, 4, 5]}, scoring='r2')"
      ]
     },
     "execution_count": 20,
     "metadata": {},
     "output_type": "execute_result"
    }
   ],
   "source": [
    "lrf.fit(X_train, y_train)"
   ]
  },
  {
   "cell_type": "code",
   "execution_count": 21,
   "id": "1a74a291",
   "metadata": {},
   "outputs": [
    {
     "data": {
      "text/plain": [
       "{'n_jobs': 1}"
      ]
     },
     "execution_count": 21,
     "metadata": {},
     "output_type": "execute_result"
    }
   ],
   "source": [
    "lrf.best_params_"
   ]
  },
  {
   "cell_type": "code",
   "execution_count": 22,
   "id": "193a543a",
   "metadata": {},
   "outputs": [
    {
     "data": {
      "text/plain": [
       "0.89152823018429"
      ]
     },
     "execution_count": 22,
     "metadata": {},
     "output_type": "execute_result"
    }
   ],
   "source": [
    "lrf.score(X_train, y_train)"
   ]
  },
  {
   "cell_type": "markdown",
   "id": "b4c55aaf",
   "metadata": {},
   "source": [
    "2. Decision Tree Regression"
   ]
  },
  {
   "cell_type": "code",
   "execution_count": 23,
   "id": "995f1760",
   "metadata": {},
   "outputs": [],
   "source": [
    "dt = DecisionTreeRegressor()"
   ]
  },
  {
   "cell_type": "code",
   "execution_count": 24,
   "id": "e1c4d85f",
   "metadata": {},
   "outputs": [],
   "source": [
    "dtf = GridSearchCV(dt, param_grid= {'max_depth': [1,2,3,4,5], 'min_samples_split': [1,2,3,4,5], 'min_samples_leaf': [1,2,3,4,5]},\n",
    "                  scoring= 'r2', cv= 5)"
   ]
  },
  {
   "cell_type": "code",
   "execution_count": 25,
   "id": "6a950212",
   "metadata": {},
   "outputs": [
    {
     "data": {
      "text/plain": [
       "GridSearchCV(cv=5, estimator=DecisionTreeRegressor(),\n",
       "             param_grid={'max_depth': [1, 2, 3, 4, 5],\n",
       "                         'min_samples_leaf': [1, 2, 3, 4, 5],\n",
       "                         'min_samples_split': [1, 2, 3, 4, 5]},\n",
       "             scoring='r2')"
      ]
     },
     "execution_count": 25,
     "metadata": {},
     "output_type": "execute_result"
    }
   ],
   "source": [
    "dtf.fit(X_train, y_train)"
   ]
  },
  {
   "cell_type": "code",
   "execution_count": 26,
   "id": "24c0ceda",
   "metadata": {},
   "outputs": [
    {
     "data": {
      "text/plain": [
       "{'max_depth': 5, 'min_samples_leaf': 1, 'min_samples_split': 2}"
      ]
     },
     "execution_count": 26,
     "metadata": {},
     "output_type": "execute_result"
    }
   ],
   "source": [
    "dtf.best_params_"
   ]
  },
  {
   "cell_type": "code",
   "execution_count": 27,
   "id": "50de849a",
   "metadata": {},
   "outputs": [
    {
     "data": {
      "text/plain": [
       "0.9862967646761532"
      ]
     },
     "execution_count": 27,
     "metadata": {},
     "output_type": "execute_result"
    }
   ],
   "source": [
    "dtf.score(X_train, y_train)"
   ]
  },
  {
   "cell_type": "markdown",
   "id": "155785c7",
   "metadata": {},
   "source": [
    "3. Random Forest Regression"
   ]
  },
  {
   "cell_type": "code",
   "execution_count": 28,
   "id": "f579aafc",
   "metadata": {},
   "outputs": [],
   "source": [
    "rf = RandomForestRegressor()"
   ]
  },
  {
   "cell_type": "code",
   "execution_count": 29,
   "id": "98302fac",
   "metadata": {},
   "outputs": [],
   "source": [
    "rff = GridSearchCV(rf, param_grid= {'n_estimators': [100,110,120,130,140], 'max_depth': [1,2,3,4,5], 'min_samples_leaf': [1,2,3,4,5], 'min_samples_split': [1,2,3,4,5]},\n",
    "                  scoring= 'r2', cv= 5)"
   ]
  },
  {
   "cell_type": "code",
   "execution_count": 30,
   "id": "a66b8099",
   "metadata": {},
   "outputs": [
    {
     "data": {
      "text/plain": [
       "GridSearchCV(cv=5, estimator=RandomForestRegressor(),\n",
       "             param_grid={'max_depth': [1, 2, 3, 4, 5],\n",
       "                         'min_samples_leaf': [1, 2, 3, 4, 5],\n",
       "                         'min_samples_split': [1, 2, 3, 4, 5],\n",
       "                         'n_estimators': [100, 110, 120, 130, 140]},\n",
       "             scoring='r2')"
      ]
     },
     "execution_count": 30,
     "metadata": {},
     "output_type": "execute_result"
    }
   ],
   "source": [
    "rff.fit(X_train, y_train)"
   ]
  },
  {
   "cell_type": "code",
   "execution_count": 31,
   "id": "9e369588",
   "metadata": {},
   "outputs": [
    {
     "data": {
      "text/plain": [
       "{'max_depth': 5,\n",
       " 'min_samples_leaf': 2,\n",
       " 'min_samples_split': 2,\n",
       " 'n_estimators': 110}"
      ]
     },
     "execution_count": 31,
     "metadata": {},
     "output_type": "execute_result"
    }
   ],
   "source": [
    "rff.best_params_"
   ]
  },
  {
   "cell_type": "code",
   "execution_count": 32,
   "id": "37003699",
   "metadata": {},
   "outputs": [
    {
     "data": {
      "text/plain": [
       "0.9915435653303571"
      ]
     },
     "execution_count": 32,
     "metadata": {},
     "output_type": "execute_result"
    }
   ],
   "source": [
    "rff.score(X_train, y_train)"
   ]
  },
  {
   "cell_type": "markdown",
   "id": "056f37ec",
   "metadata": {},
   "source": [
    "4. Bagging Regression"
   ]
  },
  {
   "cell_type": "code",
   "execution_count": 33,
   "id": "63a04334",
   "metadata": {},
   "outputs": [],
   "source": [
    "br = BaggingRegressor(base_estimator= DecisionTreeRegressor(max_depth= 5, min_samples_split= 2, min_samples_leaf= 1))"
   ]
  },
  {
   "cell_type": "code",
   "execution_count": 34,
   "id": "58b9f3b0",
   "metadata": {},
   "outputs": [],
   "source": [
    "brf = GridSearchCV(br, param_grid= {'n_estimators': [10,20,30,40,50], 'max_features': [1,2,3,4,5], 'max_samples': [1,2,3,4,5]},\n",
    "                  scoring= 'r2', cv= 5)"
   ]
  },
  {
   "cell_type": "code",
   "execution_count": 35,
   "id": "ee10c19e",
   "metadata": {},
   "outputs": [
    {
     "data": {
      "text/plain": [
       "GridSearchCV(cv=5,\n",
       "             estimator=BaggingRegressor(base_estimator=DecisionTreeRegressor(max_depth=5)),\n",
       "             param_grid={'max_features': [1, 2, 3, 4, 5],\n",
       "                         'max_samples': [1, 2, 3, 4, 5],\n",
       "                         'n_estimators': [10, 20, 30, 40, 50]},\n",
       "             scoring='r2')"
      ]
     },
     "execution_count": 35,
     "metadata": {},
     "output_type": "execute_result"
    }
   ],
   "source": [
    "brf.fit(X_train, y_train)"
   ]
  },
  {
   "cell_type": "code",
   "execution_count": 36,
   "id": "8e550a4f",
   "metadata": {},
   "outputs": [
    {
     "data": {
      "text/plain": [
       "{'max_features': 3, 'max_samples': 5, 'n_estimators': 50}"
      ]
     },
     "execution_count": 36,
     "metadata": {},
     "output_type": "execute_result"
    }
   ],
   "source": [
    "brf.best_params_"
   ]
  },
  {
   "cell_type": "code",
   "execution_count": 37,
   "id": "0c5a8882",
   "metadata": {},
   "outputs": [
    {
     "data": {
      "text/plain": [
       "0.6889141893919122"
      ]
     },
     "execution_count": 37,
     "metadata": {},
     "output_type": "execute_result"
    }
   ],
   "source": [
    "brf.score(X_train, y_train)"
   ]
  },
  {
   "cell_type": "markdown",
   "id": "ad2da267",
   "metadata": {},
   "source": [
    "So by applying GridSearchCV on each model we reach to the conclusion that best suitable model for this dataset is Random Forest Regression model.\n",
    "\n",
    "#### Now applying scaling to remove the outliers from the dataset."
   ]
  },
  {
   "cell_type": "code",
   "execution_count": 38,
   "id": "7acf26c4",
   "metadata": {},
   "outputs": [],
   "source": [
    "scaler = StandardScaler()"
   ]
  },
  {
   "cell_type": "code",
   "execution_count": 39,
   "id": "8bbbed47",
   "metadata": {},
   "outputs": [],
   "source": [
    "scaledX_train = scaler.fit_transform(X_train)"
   ]
  },
  {
   "cell_type": "code",
   "execution_count": 40,
   "id": "6cb64e9a",
   "metadata": {},
   "outputs": [],
   "source": [
    "scaledX_test = scaler.transform(X_test)"
   ]
  },
  {
   "cell_type": "code",
   "execution_count": 41,
   "id": "090d2b50",
   "metadata": {},
   "outputs": [],
   "source": [
    "rf = RandomForestRegressor(max_depth= 5, min_samples_leaf= 2, min_samples_split= 2, n_estimators= 110)"
   ]
  },
  {
   "cell_type": "code",
   "execution_count": 42,
   "id": "71907502",
   "metadata": {},
   "outputs": [],
   "source": [
    "pred = rf.fit(scaledX_train, y_train).predict(scaledX_test)"
   ]
  },
  {
   "cell_type": "code",
   "execution_count": 43,
   "id": "fba3d1bf",
   "metadata": {},
   "outputs": [],
   "source": [
    "prediction = pd.DataFrame({'Actual': y_test, 'Prediction': np.round(pred, 1)})"
   ]
  },
  {
   "cell_type": "code",
   "execution_count": 44,
   "id": "697ad258",
   "metadata": {},
   "outputs": [
    {
     "data": {
      "text/html": [
       "<div>\n",
       "<style scoped>\n",
       "    .dataframe tbody tr th:only-of-type {\n",
       "        vertical-align: middle;\n",
       "    }\n",
       "\n",
       "    .dataframe tbody tr th {\n",
       "        vertical-align: top;\n",
       "    }\n",
       "\n",
       "    .dataframe thead th {\n",
       "        text-align: right;\n",
       "    }\n",
       "</style>\n",
       "<table border=\"1\" class=\"dataframe\">\n",
       "  <thead>\n",
       "    <tr style=\"text-align: right;\">\n",
       "      <th></th>\n",
       "      <th>Actual</th>\n",
       "      <th>Prediction</th>\n",
       "    </tr>\n",
       "  </thead>\n",
       "  <tbody>\n",
       "    <tr>\n",
       "      <th>126</th>\n",
       "      <td>6.6</td>\n",
       "      <td>6.4</td>\n",
       "    </tr>\n",
       "    <tr>\n",
       "      <th>104</th>\n",
       "      <td>20.7</td>\n",
       "      <td>20.1</td>\n",
       "    </tr>\n",
       "    <tr>\n",
       "      <th>99</th>\n",
       "      <td>17.2</td>\n",
       "      <td>17.2</td>\n",
       "    </tr>\n",
       "    <tr>\n",
       "      <th>92</th>\n",
       "      <td>19.4</td>\n",
       "      <td>19.3</td>\n",
       "    </tr>\n",
       "    <tr>\n",
       "      <th>111</th>\n",
       "      <td>21.8</td>\n",
       "      <td>22.2</td>\n",
       "    </tr>\n",
       "  </tbody>\n",
       "</table>\n",
       "</div>"
      ],
      "text/plain": [
       "     Actual  Prediction\n",
       "126     6.6         6.4\n",
       "104    20.7        20.1\n",
       "99     17.2        17.2\n",
       "92     19.4        19.3\n",
       "111    21.8        22.2"
      ]
     },
     "execution_count": 44,
     "metadata": {},
     "output_type": "execute_result"
    }
   ],
   "source": [
    "prediction.head()"
   ]
  },
  {
   "cell_type": "markdown",
   "id": "24790797",
   "metadata": {},
   "source": [
    "#### Now applying various metrics to check the accuracy of the model."
   ]
  },
  {
   "cell_type": "code",
   "execution_count": 45,
   "id": "6525906e",
   "metadata": {},
   "outputs": [
    {
     "name": "stdout",
     "output_type": "stream",
     "text": [
      "r2_score :  0.9797345383598305\n"
     ]
    }
   ],
   "source": [
    "print('r2_score : ', metrics.r2_score(pred, y_test))"
   ]
  },
  {
   "cell_type": "code",
   "execution_count": 46,
   "id": "d36f10ea",
   "metadata": {},
   "outputs": [
    {
     "name": "stdout",
     "output_type": "stream",
     "text": [
      "root mean square error :  0.6154805142547621\n"
     ]
    }
   ],
   "source": [
    "print('root mean square error : ', np.sqrt(metrics.mean_squared_error(pred, y_test)))"
   ]
  },
  {
   "cell_type": "code",
   "execution_count": 47,
   "id": "91eef589",
   "metadata": {},
   "outputs": [
    {
     "name": "stdout",
     "output_type": "stream",
     "text": [
      "mean absolute error :  0.4661780264933582\n"
     ]
    }
   ],
   "source": [
    "print('mean absolute error : ', metrics.mean_absolute_error(pred, y_test))"
   ]
  },
  {
   "cell_type": "markdown",
   "id": "41877198",
   "metadata": {},
   "source": [
    "#### By looking at the above three metrics we can observe that this model has high accuracy for this dataset. The evidence is there in the form of r2_score is very high. Now we need to save the model for further use."
   ]
  },
  {
   "cell_type": "code",
   "execution_count": 48,
   "id": "bcf6f074",
   "metadata": {},
   "outputs": [],
   "source": [
    "import pickle"
   ]
  },
  {
   "cell_type": "code",
   "execution_count": 49,
   "id": "d9f3580b",
   "metadata": {},
   "outputs": [],
   "source": [
    "advertisement_model = pickle.dumps(rf)"
   ]
  },
  {
   "cell_type": "markdown",
   "id": "7cbe1878",
   "metadata": {},
   "source": [
    "#### Hence we have made the prediction on the dataset and have saved the model. So, we have achieved the objective of the task and it has been completed."
   ]
  },
  {
   "cell_type": "code",
   "execution_count": null,
   "id": "0a2aee0e",
   "metadata": {},
   "outputs": [],
   "source": []
  }
 ],
 "metadata": {
  "kernelspec": {
   "display_name": "Python 3 (ipykernel)",
   "language": "python",
   "name": "python3"
  },
  "language_info": {
   "codemirror_mode": {
    "name": "ipython",
    "version": 3
   },
   "file_extension": ".py",
   "mimetype": "text/x-python",
   "name": "python",
   "nbconvert_exporter": "python",
   "pygments_lexer": "ipython3",
   "version": "3.9.7"
  }
 },
 "nbformat": 4,
 "nbformat_minor": 5
}
